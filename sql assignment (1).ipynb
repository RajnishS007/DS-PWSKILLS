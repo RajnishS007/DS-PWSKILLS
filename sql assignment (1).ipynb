{
 "cells": [
  {
   "cell_type": "code",
   "execution_count": 2,
   "id": "0ab35e10-2db1-44aa-856b-b3e96b010970",
   "metadata": {},
   "outputs": [
    {
     "data": {
      "text/plain": [
       "'Q1. What is a database? Differentiate between SQL and NoSQL databases.'"
      ]
     },
     "execution_count": 2,
     "metadata": {},
     "output_type": "execute_result"
    }
   ],
   "source": [
    "\"Q1. What is a database? Differentiate between SQL and NoSQL databases.\""
   ]
  },
  {
   "cell_type": "code",
   "execution_count": 5,
   "id": "0edc2b3c-5c85-4e19-9b30-26947fad3f2f",
   "metadata": {},
   "outputs": [],
   "source": [
    "#A database is structeured or organised collection of information stored electronically in a computer system.\n",
    "#SQL - is structured query language is a language that uses to acces and manipulation  relational database.\n",
    "#Nosql -  not only sql are non-tabular databases and store data differently than relational tables.\""
   ]
  },
  {
   "cell_type": "markdown",
   "id": "1f46cc2b-c598-4cd0-9e35-6038cf90bbe9",
   "metadata": {},
   "source": [
    "#Q2. What is DDL? Explain why CREATE, DROP, ALTER, and TRUNCATE are used with an example."
   ]
  },
  {
   "cell_type": "code",
   "execution_count": 4,
   "id": "89b97573-d010-4861-b29a-30bae717e52f",
   "metadata": {},
   "outputs": [
    {
     "data": {
      "text/plain": [
       "' DDL is data defination langauge that is used to define data available in database \\n\\nCreate is used to create table in database ex :- create table name( \\n id - int\\n name - varchar(10)\\n age - int\\n gender - varchar(10));\\n \\n Drop is used ton drop table currently using \\n ex - drop table name ;\\n \\n ALTER - aletr is used to modify, drop and add database\\n ex- alter table \\n     modify column name;\\n     \\n     \\n Truncate - is used to delete column from scheme      \\n ex- truncate table shipper '"
      ]
     },
     "execution_count": 4,
     "metadata": {},
     "output_type": "execute_result"
    }
   ],
   "source": [
    "''' DDL is data defination langauge that is used to define data available in database \n",
    "\n",
    "Create is used to create table in database ex :- create table name( \n",
    " id - int\n",
    " name - varchar(10)\n",
    " age - int\n",
    " gender - varchar(10));\n",
    " \n",
    " Drop is used ton drop table currently using \n",
    " ex - drop table name ;\n",
    " \n",
    " ALTER - aletr is used to modify, drop and add database\n",
    " ex- alter table \n",
    "     modify column name;\n",
    "     \n",
    "     \n",
    " Truncate - is used to delete column from scheme      \n",
    " ex- truncate table shipper '''\n",
    " "
   ]
  },
  {
   "cell_type": "code",
   "execution_count": 5,
   "id": "8ddf343a-1ade-4de9-9972-8b9ba4bf3da4",
   "metadata": {},
   "outputs": [],
   "source": [
    "#Q3. What is DML? Explain INSERT, UPDATE, and DELETE with an example."
   ]
  },
  {
   "cell_type": "code",
   "execution_count": 7,
   "id": "4ae07e54-ded2-4a4c-944d-590be30a3ebf",
   "metadata": {},
   "outputs": [
    {
     "data": {
      "text/plain": [
       "\"DML is data manipulation language that is used is manipulate data available in database \\n\\nINSERT -- is query that used to insert new records in table\\nex- INSERT INTO Customers (CustomerName, ContactName, Address, City, PostalCode, Country)\\nVALUES ('Cardinal', 'Tom B. Erichsen', 'Skagen 21', 'Stavanger', '4006', 'Norway');\\n\\nUPDATE - is query that used to update table \\nex - UPDATE Customers\\n     SET ContactName = 'Alfred Schmidt', City= 'Frankfurt'\\n     WHERE CustomerID = 1;\\n        \\nDELETE -- is used to delete record from database \\nex - DELETE FROM table_name WHERE condition; \""
      ]
     },
     "execution_count": 7,
     "metadata": {},
     "output_type": "execute_result"
    }
   ],
   "source": [
    "'''DML is data manipulation language that is used is manipulate data available in database \n",
    "\n",
    "INSERT -- is query that used to insert new records in table\n",
    "ex- INSERT INTO Customers (CustomerName, ContactName, Address, City, PostalCode, Country)\n",
    "VALUES ('Cardinal', 'Tom B. Erichsen', 'Skagen 21', 'Stavanger', '4006', 'Norway');\n",
    "\n",
    "UPDATE - is query that used to update table \n",
    "ex - UPDATE Customers\n",
    "     SET ContactName = 'Alfred Schmidt', City= 'Frankfurt'\n",
    "     WHERE CustomerID = 1;\n",
    "        \n",
    "DELETE -- is used to delete record from database \n",
    "ex - DELETE FROM table_name WHERE condition; '''"
   ]
  },
  {
   "cell_type": "markdown",
   "id": "e5d33480-4a00-4a4c-b40f-ce67905d9e18",
   "metadata": {},
   "source": [
    "#Q4. What is DQL? Explain SELECT with an example."
   ]
  },
  {
   "cell_type": "code",
   "execution_count": 9,
   "id": "e1050451-4f57-4020-bcfe-3a80cc1e50b6",
   "metadata": {},
   "outputs": [
    {
     "data": {
      "text/plain": [
       "'DQL is data query language that is used to query from database\\n Ex - select statement for database \\n    select * from table name ;\\n    slect name , date, age from table name ; '"
      ]
     },
     "execution_count": 9,
     "metadata": {},
     "output_type": "execute_result"
    }
   ],
   "source": [
    "'''DQL is data query language that is used to query from database\n",
    " Ex - select statement for database \n",
    "    select * from table name ;\n",
    "    slect name , date, age from table name ; '''\n",
    "    "
   ]
  },
  {
   "cell_type": "markdown",
   "id": "1062f34b-d251-42e7-b89a-e15210b18a73",
   "metadata": {},
   "source": [
    "#Q5. Explain Primary Key and Foreign Key."
   ]
  },
  {
   "cell_type": "code",
   "execution_count": 10,
   "id": "ac2c6cd3-1467-4453-bc1d-feb1e3f8f960",
   "metadata": {},
   "outputs": [
    {
     "data": {
      "text/plain": [
       "'primary key - is a unique value that is used as identifier;\\nforeign key - is used to link one table from another table ;'"
      ]
     },
     "execution_count": 10,
     "metadata": {},
     "output_type": "execute_result"
    }
   ],
   "source": [
    "'''primary key - is a unique value that is used as identifier;\n",
    "foreign key - is used to link one table from another table ;'''"
   ]
  },
  {
   "cell_type": "markdown",
   "id": "61037a76-a6f5-4fa7-b41f-ba8d1b335cfd",
   "metadata": {},
   "source": [
    "#Q6. Write a python code to connect MySQL to python. Explain the cursor() and execute() method."
   ]
  },
  {
   "cell_type": "code",
   "execution_count": 11,
   "id": "fc095cdd-da8a-4d0b-89cb-789d21fe3733",
   "metadata": {},
   "outputs": [
    {
     "data": {
      "text/plain": [
       "'import mysql.connector \\nmydb= connect.mysql.connector.connect(\\n    host =\\n    user =\\n    password =\\n)\\n\\nprint(mydb)'"
      ]
     },
     "execution_count": 11,
     "metadata": {},
     "output_type": "execute_result"
    }
   ],
   "source": [
    "'''import mysql.connector \n",
    "mydb= connect.mysql.connector.connect(\n",
    "    host =\n",
    "    user =\n",
    "    password =\n",
    ")\n",
    "\n",
    "print(mydb)'''\n"
   ]
  },
  {
   "cell_type": "markdown",
   "id": "158640c2-4df0-4bfb-a003-98b6953f00ef",
   "metadata": {},
   "source": [
    "#Q7. Give the order of execution of SQL clauses in an SQL query."
   ]
  },
  {
   "cell_type": "code",
   "execution_count": 13,
   "id": "5f4dbe18-9247-479f-954a-34d6bcb38c00",
   "metadata": {},
   "outputs": [
    {
     "data": {
      "text/plain": [
       "'1) from \\n2) where \\n3) group by \\n4) having\\n5) select  '"
      ]
     },
     "execution_count": 13,
     "metadata": {},
     "output_type": "execute_result"
    }
   ],
   "source": [
    "'''1) from \n",
    "2) where \n",
    "3) group by \n",
    "4) having\n",
    "5) select  '''\n"
   ]
  },
  {
   "cell_type": "code",
   "execution_count": null,
   "id": "17df239b-6380-4568-828b-949236c4e3e2",
   "metadata": {},
   "outputs": [],
   "source": []
  }
 ],
 "metadata": {
  "kernelspec": {
   "display_name": "Python 3 (ipykernel)",
   "language": "python",
   "name": "python3"
  },
  "language_info": {
   "codemirror_mode": {
    "name": "ipython",
    "version": 3
   },
   "file_extension": ".py",
   "mimetype": "text/x-python",
   "name": "python",
   "nbconvert_exporter": "python",
   "pygments_lexer": "ipython3",
   "version": "3.10.8"
  }
 },
 "nbformat": 4,
 "nbformat_minor": 5
}
