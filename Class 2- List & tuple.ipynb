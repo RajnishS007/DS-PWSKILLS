{
 "cells": [
  {
   "cell_type": "code",
   "execution_count": 2,
   "id": "b06a4f03-a246-4587-bcc3-eafbff873bcb",
   "metadata": {},
   "outputs": [],
   "source": [
    "L = [1, 45, \"Ram\", \"Shayam\", \"Mohan\", \"sudha\", 4+5j]"
   ]
  },
  {
   "cell_type": "code",
   "execution_count": 4,
   "id": "9a4779ea-a6c5-4a59-bf11-82ee56ce22cb",
   "metadata": {},
   "outputs": [
    {
     "data": {
      "text/plain": [
       "list"
      ]
     },
     "execution_count": 4,
     "metadata": {},
     "output_type": "execute_result"
    }
   ],
   "source": [
    "type(L)"
   ]
  },
  {
   "cell_type": "code",
   "execution_count": 7,
   "id": "802e968a-5118-4fee-9e3a-25e2b94279f7",
   "metadata": {},
   "outputs": [
    {
     "data": {
      "text/plain": [
       "'Ram'"
      ]
     },
     "execution_count": 7,
     "metadata": {},
     "output_type": "execute_result"
    }
   ],
   "source": [
    "L[2]"
   ]
  },
  {
   "cell_type": "code",
   "execution_count": 9,
   "id": "f9054baa-3fe0-451e-86dc-948dfe02c757",
   "metadata": {},
   "outputs": [
    {
     "data": {
      "text/plain": [
       "1"
      ]
     },
     "execution_count": 9,
     "metadata": {},
     "output_type": "execute_result"
    }
   ],
   "source": [
    "L[0]"
   ]
  },
  {
   "cell_type": "code",
   "execution_count": 11,
   "id": "9a9da3a6-55d9-4dbc-92cf-0393407bbe5c",
   "metadata": {},
   "outputs": [
    {
     "data": {
      "text/plain": [
       "[1, 45, 'Ram']"
      ]
     },
     "execution_count": 11,
     "metadata": {},
     "output_type": "execute_result"
    }
   ],
   "source": [
    "L[0:3]"
   ]
  },
  {
   "cell_type": "code",
   "execution_count": 14,
   "id": "5cb0f182-2248-41de-80a7-ed27c42e6b93",
   "metadata": {},
   "outputs": [
    {
     "data": {
      "text/plain": [
       "['sudha', 'Shayam', 45]"
      ]
     },
     "execution_count": 14,
     "metadata": {},
     "output_type": "execute_result"
    }
   ],
   "source": [
    "L[5:0:-2]"
   ]
  },
  {
   "cell_type": "code",
   "execution_count": 18,
   "id": "08c120d9-e89a-450c-aa10-cb2eb6be9727",
   "metadata": {},
   "outputs": [
    {
     "data": {
      "text/plain": [
       "[]"
      ]
     },
     "execution_count": 18,
     "metadata": {},
     "output_type": "execute_result"
    }
   ],
   "source": [
    "L[-1:0:2]"
   ]
  },
  {
   "cell_type": "code",
   "execution_count": 23,
   "id": "44ad3f07-b59f-4c50-863e-b7cd8adcb5d9",
   "metadata": {},
   "outputs": [
    {
     "data": {
      "text/plain": [
       "[(4+5j), 'sudha', 'Mohan', 'Shayam', 'Ram', 45, 1]"
      ]
     },
     "execution_count": 23,
     "metadata": {},
     "output_type": "execute_result"
    }
   ],
   "source": [
    "L[::-1]"
   ]
  },
  {
   "cell_type": "code",
   "execution_count": 25,
   "id": "be70c92c-19de-460e-892e-2fa0689e4ceb",
   "metadata": {},
   "outputs": [
    {
     "data": {
      "text/plain": [
       "[(4+5j), 'Mohan', 'Ram', 1]"
      ]
     },
     "execution_count": 25,
     "metadata": {},
     "output_type": "execute_result"
    }
   ],
   "source": [
    "L[::-2]"
   ]
  },
  {
   "cell_type": "code",
   "execution_count": 28,
   "id": "34e39e07-60d8-45d1-8a97-db99953f4510",
   "metadata": {},
   "outputs": [],
   "source": [
    "S=\"PWSKILLS\""
   ]
  },
  {
   "cell_type": "code",
   "execution_count": 30,
   "id": "e35a52c9-a854-4ef2-8987-f4e348e4f390",
   "metadata": {},
   "outputs": [
    {
     "data": {
      "text/plain": [
       "['P', 'W', 'S', 'K', 'I', 'L', 'L', 'S']"
      ]
     },
     "execution_count": 30,
     "metadata": {},
     "output_type": "execute_result"
    }
   ],
   "source": [
    "list(S)"
   ]
  },
  {
   "cell_type": "code",
   "execution_count": 33,
   "id": "b041b759-7468-4a2b-825b-ec617d1f4e2a",
   "metadata": {},
   "outputs": [
    {
     "data": {
      "text/plain": [
       "['P',\n",
       " 'W',\n",
       " 'S',\n",
       " 'K',\n",
       " 'I',\n",
       " 'L',\n",
       " 'L',\n",
       " 'S',\n",
       " 1,\n",
       " 45,\n",
       " 'Ram',\n",
       " 'Shayam',\n",
       " 'Mohan',\n",
       " 'sudha',\n",
       " (4+5j)]"
      ]
     },
     "execution_count": 33,
     "metadata": {},
     "output_type": "execute_result"
    }
   ],
   "source": [
    "list(S) + L"
   ]
  },
  {
   "cell_type": "code",
   "execution_count": 36,
   "id": "7f82e473-eb5a-486a-a510-3ab0fd650df6",
   "metadata": {},
   "outputs": [
    {
     "data": {
      "text/plain": [
       "[1, 45, 'Ram', 'Shayam', 'Mohan', 'sudha', (4+5j)]"
      ]
     },
     "execution_count": 36,
     "metadata": {},
     "output_type": "execute_result"
    }
   ],
   "source": [
    "L"
   ]
  },
  {
   "cell_type": "code",
   "execution_count": 39,
   "id": "80127a28-5cfd-4a99-b924-8ebc21612c26",
   "metadata": {},
   "outputs": [
    {
     "data": {
      "text/plain": [
       "'Shayam'"
      ]
     },
     "execution_count": 39,
     "metadata": {},
     "output_type": "execute_result"
    }
   ],
   "source": [
    "L[3]"
   ]
  },
  {
   "cell_type": "code",
   "execution_count": 44,
   "id": "7677927e-5680-47f5-bfd4-be784b723471",
   "metadata": {},
   "outputs": [
    {
     "data": {
      "text/plain": [
       "'Sh'"
      ]
     },
     "execution_count": 44,
     "metadata": {},
     "output_type": "execute_result"
    }
   ],
   "source": [
    "L[3][0:2]"
   ]
  },
  {
   "cell_type": "code",
   "execution_count": 45,
   "id": "b562303c-6654-42f0-b0f2-f82af7336982",
   "metadata": {},
   "outputs": [],
   "source": [
    "#list can be concatenated into list only"
   ]
  },
  {
   "cell_type": "code",
   "execution_count": 46,
   "id": "5d3abd45-228e-4bcd-8537-fb6001683eb9",
   "metadata": {},
   "outputs": [],
   "source": [
    "L1 = [3, 4,77,89]"
   ]
  },
  {
   "cell_type": "code",
   "execution_count": 48,
   "id": "26785b30-ed98-4be7-b476-ad08a1852090",
   "metadata": {},
   "outputs": [
    {
     "data": {
      "text/plain": [
       "[1, 45, 'Ram', 'Shayam', 'Mohan', 'sudha', (4+5j), 3, 4, 77, 89]"
      ]
     },
     "execution_count": 48,
     "metadata": {},
     "output_type": "execute_result"
    }
   ],
   "source": [
    "L+L1"
   ]
  },
  {
   "cell_type": "code",
   "execution_count": 51,
   "id": "d9b76bff-4744-4862-84ae-34d588d5161f",
   "metadata": {},
   "outputs": [
    {
     "data": {
      "text/plain": [
       "[3, 4, 77, 89, 3, 4, 77, 89, 3, 4, 77, 89]"
      ]
     },
     "execution_count": 51,
     "metadata": {},
     "output_type": "execute_result"
    }
   ],
   "source": [
    "L1*3"
   ]
  },
  {
   "cell_type": "code",
   "execution_count": 53,
   "id": "6f9e212e-a7db-459f-b71a-65eaecea5051",
   "metadata": {},
   "outputs": [
    {
     "data": {
      "text/plain": [
       "4"
      ]
     },
     "execution_count": 53,
     "metadata": {},
     "output_type": "execute_result"
    }
   ],
   "source": [
    "len(L1)"
   ]
  },
  {
   "cell_type": "code",
   "execution_count": 55,
   "id": "59e4a441-3217-4cba-9927-5d904d9386c3",
   "metadata": {},
   "outputs": [
    {
     "data": {
      "text/plain": [
       "7"
      ]
     },
     "execution_count": 55,
     "metadata": {},
     "output_type": "execute_result"
    }
   ],
   "source": [
    "len(L)"
   ]
  },
  {
   "cell_type": "code",
   "execution_count": 61,
   "id": "4d501da9-825e-4d23-86cb-a459e751078d",
   "metadata": {},
   "outputs": [],
   "source": [
    "L1.append(5)"
   ]
  },
  {
   "cell_type": "code",
   "execution_count": 65,
   "id": "e63eff1d-4597-49e7-99be-81a8a8d7a529",
   "metadata": {},
   "outputs": [
    {
     "data": {
      "text/plain": [
       "[3, 4, 77, 89, 5, 5, 5]"
      ]
     },
     "execution_count": 65,
     "metadata": {},
     "output_type": "execute_result"
    }
   ],
   "source": [
    "L1"
   ]
  },
  {
   "cell_type": "code",
   "execution_count": 66,
   "id": "9e48c051-5110-4a77-83b9-61ecca6f057d",
   "metadata": {},
   "outputs": [],
   "source": [
    "S= \"PWSKILL\""
   ]
  },
  {
   "cell_type": "code",
   "execution_count": 68,
   "id": "2dd0b142-5df0-4faf-b8ec-bcf4ca8feff1",
   "metadata": {},
   "outputs": [
    {
     "ename": "AttributeError",
     "evalue": "'str' object has no attribute 'append'",
     "output_type": "error",
     "traceback": [
      "\u001b[0;31m---------------------------------------------------------------------------\u001b[0m",
      "\u001b[0;31mAttributeError\u001b[0m                            Traceback (most recent call last)",
      "Cell \u001b[0;32mIn[68], line 1\u001b[0m\n\u001b[0;32m----> 1\u001b[0m \u001b[43mS\u001b[49m\u001b[38;5;241;43m.\u001b[39;49m\u001b[43mappend\u001b[49m(s)\n",
      "\u001b[0;31mAttributeError\u001b[0m: 'str' object has no attribute 'append'"
     ]
    }
   ],
   "source": [
    "S.append(s)"
   ]
  },
  {
   "cell_type": "code",
   "execution_count": 70,
   "id": "67576d67-f8a9-44e3-ac12-35a322937e06",
   "metadata": {},
   "outputs": [
    {
     "data": {
      "text/plain": [
       "'PWSKILLS'"
      ]
     },
     "execution_count": 70,
     "metadata": {},
     "output_type": "execute_result"
    }
   ],
   "source": [
    "S"
   ]
  },
  {
   "cell_type": "code",
   "execution_count": null,
   "id": "a1519359-c8e0-4529-9abf-734373806e25",
   "metadata": {},
   "outputs": [],
   "source": []
  },
  {
   "cell_type": "code",
   "execution_count": 71,
   "id": "f1256a9f-5c88-4c55-bd6e-0ca7fa475f4c",
   "metadata": {},
   "outputs": [],
   "source": [
    "L.append(L1)"
   ]
  },
  {
   "cell_type": "code",
   "execution_count": 73,
   "id": "b1d56953-7b73-449d-8fe7-ffb00003f20a",
   "metadata": {},
   "outputs": [
    {
     "data": {
      "text/plain": [
       "[1,\n",
       " 45,\n",
       " 'Ram',\n",
       " 'Shayam',\n",
       " 'Mohan',\n",
       " 'sudha',\n",
       " (4+5j),\n",
       " 5,\n",
       " 5,\n",
       " 5,\n",
       " [3, 4, 77, 89, 5, 5, 5]]"
      ]
     },
     "execution_count": 73,
     "metadata": {},
     "output_type": "execute_result"
    }
   ],
   "source": [
    "L"
   ]
  },
  {
   "cell_type": "code",
   "execution_count": 74,
   "id": "0fdf09b0-e6a9-4cb1-92e3-e85fca499b50",
   "metadata": {},
   "outputs": [],
   "source": [
    "L.extend(\"KALU\")"
   ]
  },
  {
   "cell_type": "code",
   "execution_count": 79,
   "id": "33b6bdd5-ca3e-4a83-8bd2-6511adaa142d",
   "metadata": {},
   "outputs": [
    {
     "data": {
      "text/plain": [
       "[1,\n",
       " 45,\n",
       " 'Ram',\n",
       " 'Shayam',\n",
       " 'Mohan',\n",
       " 'sudha',\n",
       " (4+5j),\n",
       " 5,\n",
       " 5,\n",
       " 5,\n",
       " [3, 4, 77, 89, 5, 5, 5],\n",
       " 'K',\n",
       " 'A',\n",
       " 'L',\n",
       " 'U']"
      ]
     },
     "execution_count": 79,
     "metadata": {},
     "output_type": "execute_result"
    }
   ],
   "source": [
    "L"
   ]
  },
  {
   "cell_type": "code",
   "execution_count": 80,
   "id": "a1242f0f-ea4a-4dc3-9e64-25023e71756f",
   "metadata": {},
   "outputs": [],
   "source": [
    "L1.extend(\"Golu\")"
   ]
  },
  {
   "cell_type": "code",
   "execution_count": 82,
   "id": "a1f0e868-ca4c-4353-9da3-15cdfbb41aa3",
   "metadata": {},
   "outputs": [
    {
     "data": {
      "text/plain": [
       "[3, 4, 77, 89, 5, 5, 5, 'G', 'o', 'l', 'u']"
      ]
     },
     "execution_count": 82,
     "metadata": {},
     "output_type": "execute_result"
    }
   ],
   "source": [
    "L1"
   ]
  },
  {
   "cell_type": "code",
   "execution_count": 84,
   "id": "b295f2fd-a7db-4348-b716-ed262abcef2c",
   "metadata": {},
   "outputs": [],
   "source": [
    "L1.extend([1,5,89])"
   ]
  },
  {
   "cell_type": "code",
   "execution_count": 86,
   "id": "a2363627-6784-4782-b12b-37f24e7dc643",
   "metadata": {},
   "outputs": [
    {
     "data": {
      "text/plain": [
       "[3, 4, 77, 89, 5, 5, 5, 'G', 'o', 'l', 'u', 1, 5, 89, 1, 5, 89]"
      ]
     },
     "execution_count": 86,
     "metadata": {},
     "output_type": "execute_result"
    }
   ],
   "source": [
    "L1"
   ]
  },
  {
   "cell_type": "code",
   "execution_count": 90,
   "id": "5c57f43e-2ce7-4227-8742-ea09d85e58f8",
   "metadata": {},
   "outputs": [],
   "source": [
    "L1.insert(1,\"BAbU\")"
   ]
  },
  {
   "cell_type": "code",
   "execution_count": 93,
   "id": "2a4fedf9-2edb-4d79-a591-0560dec8e4b0",
   "metadata": {},
   "outputs": [
    {
     "data": {
      "text/plain": [
       "[3,\n",
       " 'BAbU',\n",
       " 'Sudh',\n",
       " 'Sudh',\n",
       " 4,\n",
       " 77,\n",
       " 89,\n",
       " 5,\n",
       " 5,\n",
       " 5,\n",
       " 'G',\n",
       " 'o',\n",
       " 'l',\n",
       " 'u',\n",
       " 1,\n",
       " 5,\n",
       " 89,\n",
       " 1,\n",
       " 5,\n",
       " 89]"
      ]
     },
     "execution_count": 93,
     "metadata": {},
     "output_type": "execute_result"
    }
   ],
   "source": [
    "L1"
   ]
  },
  {
   "cell_type": "code",
   "execution_count": 95,
   "id": "9c204dc1-305f-4aeb-b009-d4d9da1bc8f1",
   "metadata": {},
   "outputs": [],
   "source": [
    "L1.insert(2,\"KALU\")"
   ]
  },
  {
   "cell_type": "code",
   "execution_count": 97,
   "id": "eb469090-6303-42f3-bba9-e6c644866dfc",
   "metadata": {},
   "outputs": [
    {
     "data": {
      "text/plain": [
       "[3,\n",
       " 'BAbU',\n",
       " 'KALU',\n",
       " 'KALU',\n",
       " 'Sudh',\n",
       " 'Sudh',\n",
       " 4,\n",
       " 77,\n",
       " 89,\n",
       " 5,\n",
       " 5,\n",
       " 5,\n",
       " 'G',\n",
       " 'o',\n",
       " 'l',\n",
       " 'u',\n",
       " 1,\n",
       " 5,\n",
       " 89,\n",
       " 1,\n",
       " 5,\n",
       " 89]"
      ]
     },
     "execution_count": 97,
     "metadata": {},
     "output_type": "execute_result"
    }
   ],
   "source": [
    "L1"
   ]
  },
  {
   "cell_type": "code",
   "execution_count": 98,
   "id": "5bf4dff6-5737-434c-afad-827ed8c0429b",
   "metadata": {},
   "outputs": [],
   "source": [
    "L2= [46, 7688, 6778, 865]\n"
   ]
  },
  {
   "cell_type": "code",
   "execution_count": 101,
   "id": "3c2c54ec-4850-4ef9-9e9b-4468e3537c89",
   "metadata": {},
   "outputs": [],
   "source": [
    "L2.insert(-5, 45)"
   ]
  },
  {
   "cell_type": "code",
   "execution_count": 105,
   "id": "155438b3-a312-4508-8158-627771d4843e",
   "metadata": {},
   "outputs": [
    {
     "data": {
      "text/plain": [
       "[46, 7688, 6778, 45, 45, 865]"
      ]
     },
     "execution_count": 105,
     "metadata": {},
     "output_type": "execute_result"
    }
   ],
   "source": [
    "L2"
   ]
  },
  {
   "cell_type": "code",
   "execution_count": 106,
   "id": "584b5054-78de-46a7-b6f5-e7d4a4237c41",
   "metadata": {},
   "outputs": [],
   "source": [
    "L2.insert(0, 23)"
   ]
  },
  {
   "cell_type": "code",
   "execution_count": 109,
   "id": "59856baa-6eee-44ef-a39f-3b7d2b3546a1",
   "metadata": {},
   "outputs": [
    {
     "data": {
      "text/plain": [
       "[23, 46, 7688, 6778, 45, 45, 865]"
      ]
     },
     "execution_count": 109,
     "metadata": {},
     "output_type": "execute_result"
    }
   ],
   "source": [
    "L2"
   ]
  },
  {
   "cell_type": "code",
   "execution_count": 110,
   "id": "bd16f101-b60d-4a3f-baaa-20912c7d45db",
   "metadata": {},
   "outputs": [
    {
     "data": {
      "text/plain": [
       "865"
      ]
     },
     "execution_count": 110,
     "metadata": {},
     "output_type": "execute_result"
    }
   ],
   "source": [
    "L2.pop()"
   ]
  },
  {
   "cell_type": "code",
   "execution_count": 115,
   "id": "b0af7915-15e9-4a74-b455-de8f284f8953",
   "metadata": {},
   "outputs": [
    {
     "data": {
      "text/plain": [
       "6778"
      ]
     },
     "execution_count": 115,
     "metadata": {},
     "output_type": "execute_result"
    }
   ],
   "source": [
    "L2.pop(2)"
   ]
  },
  {
   "cell_type": "code",
   "execution_count": 118,
   "id": "5f0d3640-bf52-41dd-a1c0-ddcd36b19aec",
   "metadata": {},
   "outputs": [
    {
     "ename": "IndexError",
     "evalue": "pop index out of range",
     "output_type": "error",
     "traceback": [
      "\u001b[0;31m---------------------------------------------------------------------------\u001b[0m",
      "\u001b[0;31mIndexError\u001b[0m                                Traceback (most recent call last)",
      "Cell \u001b[0;32mIn[118], line 1\u001b[0m\n\u001b[0;32m----> 1\u001b[0m \u001b[43mL2\u001b[49m\u001b[38;5;241;43m.\u001b[39;49m\u001b[43mpop\u001b[49m\u001b[43m(\u001b[49m\u001b[38;5;241;43m3\u001b[39;49m\u001b[43m)\u001b[49m\n",
      "\u001b[0;31mIndexError\u001b[0m: pop index out of range"
     ]
    }
   ],
   "source": [
    "L2.pop(3)"
   ]
  },
  {
   "cell_type": "code",
   "execution_count": 120,
   "id": "428f30b6-2d9a-4c64-ad6e-6f81288b65ec",
   "metadata": {},
   "outputs": [
    {
     "data": {
      "text/plain": [
       "3"
      ]
     },
     "execution_count": 120,
     "metadata": {},
     "output_type": "execute_result"
    }
   ],
   "source": [
    "len(L2)"
   ]
  },
  {
   "cell_type": "code",
   "execution_count": 122,
   "id": "40d774c1-1b2d-419e-826d-12fcb00d17c8",
   "metadata": {},
   "outputs": [
    {
     "data": {
      "text/plain": [
       "46"
      ]
     },
     "execution_count": 122,
     "metadata": {},
     "output_type": "execute_result"
    }
   ],
   "source": [
    "L2.pop(0)"
   ]
  },
  {
   "cell_type": "code",
   "execution_count": 125,
   "id": "34f232eb-2d3d-4018-b8f7-9a7a28253c22",
   "metadata": {},
   "outputs": [
    {
     "data": {
      "text/plain": [
       "1"
      ]
     },
     "execution_count": 125,
     "metadata": {},
     "output_type": "execute_result"
    }
   ],
   "source": [
    "len(L2)\n"
   ]
  },
  {
   "cell_type": "code",
   "execution_count": 130,
   "id": "9ad407a5-40ec-4245-937e-b8550be7b9cf",
   "metadata": {},
   "outputs": [
    {
     "ename": "IndexError",
     "evalue": "pop from empty list",
     "output_type": "error",
     "traceback": [
      "\u001b[0;31m---------------------------------------------------------------------------\u001b[0m",
      "\u001b[0;31mIndexError\u001b[0m                                Traceback (most recent call last)",
      "Cell \u001b[0;32mIn[130], line 1\u001b[0m\n\u001b[0;32m----> 1\u001b[0m \u001b[43mL2\u001b[49m\u001b[38;5;241;43m.\u001b[39;49m\u001b[43mpop\u001b[49m\u001b[43m(\u001b[49m\u001b[38;5;241;43m0\u001b[39;49m\u001b[43m)\u001b[49m\n",
      "\u001b[0;31mIndexError\u001b[0m: pop from empty list"
     ]
    }
   ],
   "source": [
    "L2.pop(0)"
   ]
  },
  {
   "cell_type": "code",
   "execution_count": 133,
   "id": "a3c5e7eb-3d5c-4e27-9c80-152d89b93540",
   "metadata": {},
   "outputs": [
    {
     "data": {
      "text/plain": [
       "0"
      ]
     },
     "execution_count": 133,
     "metadata": {},
     "output_type": "execute_result"
    }
   ],
   "source": [
    "len(L2)"
   ]
  },
  {
   "cell_type": "code",
   "execution_count": 135,
   "id": "df337cbd-0d69-40bf-9e00-cc0e9a8666ac",
   "metadata": {},
   "outputs": [
    {
     "data": {
      "text/plain": [
       "[]"
      ]
     },
     "execution_count": 135,
     "metadata": {},
     "output_type": "execute_result"
    }
   ],
   "source": [
    "L2"
   ]
  },
  {
   "cell_type": "code",
   "execution_count": 149,
   "id": "d8c6d5d1-890b-4f52-955a-d309136c7c96",
   "metadata": {},
   "outputs": [],
   "source": [
    "L3=[35, 2, 5, 8, 9,10]"
   ]
  },
  {
   "cell_type": "code",
   "execution_count": 150,
   "id": "33281f90-295e-4a62-a8e6-63b7d785f4b9",
   "metadata": {},
   "outputs": [
    {
     "data": {
      "text/plain": [
       "[35, 2, 5, 8, 9, 10]"
      ]
     },
     "execution_count": 150,
     "metadata": {},
     "output_type": "execute_result"
    }
   ],
   "source": [
    "L3"
   ]
  },
  {
   "cell_type": "code",
   "execution_count": 151,
   "id": "d1bd6952-7fa9-4fc2-b124-9d02c995b158",
   "metadata": {},
   "outputs": [],
   "source": [
    "L3.remove(5)"
   ]
  },
  {
   "cell_type": "code",
   "execution_count": 153,
   "id": "fae5029b-7efd-4a25-810c-4a36f991393f",
   "metadata": {},
   "outputs": [
    {
     "data": {
      "text/plain": [
       "[35, 2, 8, 9, 10]"
      ]
     },
     "execution_count": 153,
     "metadata": {},
     "output_type": "execute_result"
    }
   ],
   "source": [
    "L3"
   ]
  },
  {
   "cell_type": "code",
   "execution_count": 154,
   "id": "c43d13b0-889e-43b2-bf4a-d591cadecfef",
   "metadata": {},
   "outputs": [],
   "source": [
    "L3.append([2,4,5])"
   ]
  },
  {
   "cell_type": "code",
   "execution_count": 158,
   "id": "33f3d8d4-3f8c-4f88-8bde-f940d149f105",
   "metadata": {},
   "outputs": [
    {
     "data": {
      "text/plain": [
       "[35, 2, 8, 9, 10, 2, 4, 5]"
      ]
     },
     "execution_count": 158,
     "metadata": {},
     "output_type": "execute_result"
    }
   ],
   "source": [
    "L3"
   ]
  },
  {
   "cell_type": "code",
   "execution_count": 162,
   "id": "7418b0a4-315a-4c8b-98c5-86b4739aa881",
   "metadata": {},
   "outputs": [],
   "source": [
    "l4= [2, 5, 7, [3, 5,8]]"
   ]
  },
  {
   "cell_type": "markdown",
   "id": "edba37f9-4783-448a-9dba-8cd2dc79836c",
   "metadata": {
    "jp-MarkdownHeadingCollapsed": true,
    "tags": []
   },
   "source": [
    "l4"
   ]
  },
  {
   "cell_type": "code",
   "execution_count": 164,
   "id": "f1f74193-cf3b-4fea-89b1-ca5e3524f874",
   "metadata": {},
   "outputs": [
    {
     "data": {
      "text/plain": [
       "[2, 5, 7, [3, 5, 8]]"
      ]
     },
     "execution_count": 164,
     "metadata": {},
     "output_type": "execute_result"
    }
   ],
   "source": [
    "l4"
   ]
  },
  {
   "cell_type": "code",
   "execution_count": 171,
   "id": "8c07910a-4fb7-4e4c-ae72-2f2cab080092",
   "metadata": {},
   "outputs": [
    {
     "data": {
      "text/plain": [
       "[3, 8]"
      ]
     },
     "execution_count": 171,
     "metadata": {},
     "output_type": "execute_result"
    }
   ],
   "source": [
    "l4[3]"
   ]
  },
  {
   "cell_type": "code",
   "execution_count": 173,
   "id": "08a47ebf-ed9a-4c01-9ba9-23b52418d423",
   "metadata": {},
   "outputs": [
    {
     "ename": "ValueError",
     "evalue": "list.remove(x): x not in list",
     "output_type": "error",
     "traceback": [
      "\u001b[0;31m---------------------------------------------------------------------------\u001b[0m",
      "\u001b[0;31mValueError\u001b[0m                                Traceback (most recent call last)",
      "Cell \u001b[0;32mIn[173], line 1\u001b[0m\n\u001b[0;32m----> 1\u001b[0m \u001b[43ml4\u001b[49m\u001b[43m[\u001b[49m\u001b[38;5;241;43m3\u001b[39;49m\u001b[43m]\u001b[49m\u001b[38;5;241;43m.\u001b[39;49m\u001b[43mremove\u001b[49m\u001b[43m(\u001b[49m\u001b[38;5;241;43m8\u001b[39;49m\u001b[43m)\u001b[49m\n",
      "\u001b[0;31mValueError\u001b[0m: list.remove(x): x not in list"
     ]
    }
   ],
   "source": [
    "l4[3].remove(8)"
   ]
  },
  {
   "cell_type": "code",
   "execution_count": 175,
   "id": "9be1e739-8598-4122-af0a-312400d781e8",
   "metadata": {},
   "outputs": [
    {
     "data": {
      "text/plain": [
       "[2, 5, 7, [3]]"
      ]
     },
     "execution_count": 175,
     "metadata": {},
     "output_type": "execute_result"
    }
   ],
   "source": [
    "l4"
   ]
  },
  {
   "cell_type": "code",
   "execution_count": 176,
   "id": "5d847e42-85f8-4436-a26e-0ba0d4ff10b7",
   "metadata": {},
   "outputs": [],
   "source": [
    "l4.reverse()"
   ]
  },
  {
   "cell_type": "code",
   "execution_count": 178,
   "id": "39185d04-0c79-49ad-9c9a-0179d1adface",
   "metadata": {},
   "outputs": [
    {
     "data": {
      "text/plain": [
       "[[3], 7, 5, 2]"
      ]
     },
     "execution_count": 178,
     "metadata": {},
     "output_type": "execute_result"
    }
   ],
   "source": [
    "l4"
   ]
  },
  {
   "cell_type": "code",
   "execution_count": null,
   "id": "bce175e4-ef45-4ecf-977e-dc5d36f9447a",
   "metadata": {},
   "outputs": [],
   "source": []
  },
  {
   "cell_type": "code",
   "execution_count": 179,
   "id": "26180d1c-2452-42d7-9cc8-b51fff8761e3",
   "metadata": {},
   "outputs": [],
   "source": [
    "l5=[1,2,3,4,5,6,7,8,9]"
   ]
  },
  {
   "cell_type": "code",
   "execution_count": 180,
   "id": "d71a387d-baeb-4a7e-ac85-4740809b6cad",
   "metadata": {},
   "outputs": [],
   "source": [
    "l5.sort()"
   ]
  },
  {
   "cell_type": "code",
   "execution_count": 183,
   "id": "29897b65-dd82-4496-b2ea-19f7f37c49ed",
   "metadata": {},
   "outputs": [
    {
     "data": {
      "text/plain": [
       "[1, 2, 3, 4, 5, 6, 7, 8, 9]"
      ]
     },
     "execution_count": 183,
     "metadata": {},
     "output_type": "execute_result"
    }
   ],
   "source": [
    "l5"
   ]
  },
  {
   "cell_type": "code",
   "execution_count": 204,
   "id": "5c751736-ff99-4686-a0f2-9343eddba45b",
   "metadata": {},
   "outputs": [],
   "source": [
    "l6 =[\"data\", \"science\", \"apple\", \"Mango\", \"bat\"]"
   ]
  },
  {
   "cell_type": "code",
   "execution_count": 188,
   "id": "b513ea1f-e19b-4be4-9146-18b3ac87c9c8",
   "metadata": {},
   "outputs": [],
   "source": [
    "l6.sort(reverse=True)"
   ]
  },
  {
   "cell_type": "code",
   "execution_count": 205,
   "id": "15404d6f-29ab-4356-96b9-237e3f61bb83",
   "metadata": {},
   "outputs": [
    {
     "data": {
      "text/plain": [
       "['data', 'science', 'apple', 'Mango', 'bat']"
      ]
     },
     "execution_count": 205,
     "metadata": {},
     "output_type": "execute_result"
    }
   ],
   "source": [
    "l6"
   ]
  },
  {
   "cell_type": "code",
   "execution_count": 206,
   "id": "33871e15-5f6e-4f48-adc1-8e2c2db205cc",
   "metadata": {},
   "outputs": [
    {
     "data": {
      "text/plain": [
       "1"
      ]
     },
     "execution_count": 206,
     "metadata": {},
     "output_type": "execute_result"
    }
   ],
   "source": [
    "l6.index(\"science\")"
   ]
  },
  {
   "cell_type": "code",
   "execution_count": 207,
   "id": "0e8184c2-7fa0-4690-991a-eb93e311d8cc",
   "metadata": {},
   "outputs": [
    {
     "data": {
      "text/plain": [
       "1"
      ]
     },
     "execution_count": 207,
     "metadata": {},
     "output_type": "execute_result"
    }
   ],
   "source": [
    "l6.count(\"apple\")"
   ]
  },
  {
   "cell_type": "code",
   "execution_count": 210,
   "id": "1d40611d-cafb-40f8-af5a-4cf66fe565f9",
   "metadata": {},
   "outputs": [
    {
     "data": {
      "text/plain": [
       "['data', 'science', 'apple', 'Mango', 'bat']"
      ]
     },
     "execution_count": 210,
     "metadata": {},
     "output_type": "execute_result"
    }
   ],
   "source": [
    "l5"
   ]
  },
  {
   "cell_type": "code",
   "execution_count": 211,
   "id": "7985578d-4b62-4e90-bbd7-5a9f3884d4f9",
   "metadata": {},
   "outputs": [
    {
     "data": {
      "text/plain": [
       "['data', 'science', 'apple', 'Mango', 'bat']"
      ]
     },
     "execution_count": 211,
     "metadata": {},
     "output_type": "execute_result"
    }
   ],
   "source": [
    "l6"
   ]
  },
  {
   "cell_type": "code",
   "execution_count": 213,
   "id": "f9301cbf-9588-4b6f-950c-474ada6030f0",
   "metadata": {},
   "outputs": [],
   "source": [
    "l7=[1,2,3,4,5,6,7,8,9]"
   ]
  },
  {
   "cell_type": "code",
   "execution_count": 215,
   "id": "e42a1601-f2cf-4153-8e45-ad6dfdeae0ed",
   "metadata": {},
   "outputs": [
    {
     "data": {
      "text/plain": [
       "[1, 2, 3, 4, 5, 6, 7, 8, 9]"
      ]
     },
     "execution_count": 215,
     "metadata": {},
     "output_type": "execute_result"
    }
   ],
   "source": [
    "l7"
   ]
  },
  {
   "cell_type": "code",
   "execution_count": 218,
   "id": "8cc51fe3-03af-4649-9295-365be40a8f38",
   "metadata": {},
   "outputs": [],
   "source": [
    "l7[5]=11     #mutability "
   ]
  },
  {
   "cell_type": "code",
   "execution_count": 219,
   "id": "49b8493b-98ae-404b-90d0-5c1d0b1713d8",
   "metadata": {},
   "outputs": [
    {
     "data": {
      "text/plain": [
       "[1, 2, 3, 4, 5, 11, 7, 8, 9]"
      ]
     },
     "execution_count": 219,
     "metadata": {},
     "output_type": "execute_result"
    }
   ],
   "source": [
    "l7"
   ]
  },
  {
   "cell_type": "code",
   "execution_count": 221,
   "id": "eff4b918-2416-47a9-8e88-460c6b340833",
   "metadata": {},
   "outputs": [],
   "source": [
    "l7[2]=19"
   ]
  },
  {
   "cell_type": "code",
   "execution_count": 223,
   "id": "8040566d-9883-4591-a419-74e7abdeae3b",
   "metadata": {},
   "outputs": [
    {
     "data": {
      "text/plain": [
       "[1, 2, 19, 4, 5, 11, 7, 8, 9]"
      ]
     },
     "execution_count": 223,
     "metadata": {},
     "output_type": "execute_result"
    }
   ],
   "source": [
    "l7"
   ]
  },
  {
   "cell_type": "code",
   "execution_count": 225,
   "id": "b61dee51-851d-479c-a092-b3f0ce8677b9",
   "metadata": {},
   "outputs": [],
   "source": [
    "l7.sort()"
   ]
  },
  {
   "cell_type": "code",
   "execution_count": 227,
   "id": "ac980425-477d-48e9-8705-38fbdd0ca9ab",
   "metadata": {},
   "outputs": [
    {
     "data": {
      "text/plain": [
       "[1, 2, 4, 5, 7, 8, 9, 11, 19]"
      ]
     },
     "execution_count": 227,
     "metadata": {},
     "output_type": "execute_result"
    }
   ],
   "source": [
    "l7"
   ]
  },
  {
   "cell_type": "code",
   "execution_count": 229,
   "id": "374b816a-04db-4ac5-80f1-38b04c5f59fb",
   "metadata": {},
   "outputs": [],
   "source": [
    "#strings are imutable but can be changed by replace"
   ]
  },
  {
   "cell_type": "code",
   "execution_count": 230,
   "id": "d45d10ff-6dc9-4156-a80c-7963ee69ad7e",
   "metadata": {},
   "outputs": [],
   "source": [
    "l8= \"Rajnish\""
   ]
  },
  {
   "cell_type": "code",
   "execution_count": 232,
   "id": "ace91f32-079a-4410-b1a9-e20b152ec643",
   "metadata": {},
   "outputs": [
    {
     "data": {
      "text/plain": [
       "'Majnish'"
      ]
     },
     "execution_count": 232,
     "metadata": {},
     "output_type": "execute_result"
    }
   ],
   "source": [
    "l8.replace(\"R\", \"M\")   #chnage happening in new memory "
   ]
  },
  {
   "cell_type": "code",
   "execution_count": 233,
   "id": "d50c253a-3aac-4597-8647-178f9deec3b9",
   "metadata": {},
   "outputs": [
    {
     "data": {
      "text/plain": [
       "'Rajnish'"
      ]
     },
     "execution_count": 233,
     "metadata": {},
     "output_type": "execute_result"
    }
   ],
   "source": [
    "l8     #real value is same always "
   ]
  },
  {
   "cell_type": "code",
   "execution_count": 234,
   "id": "25f89eae-0db1-4ee4-a41c-94cd2e819721",
   "metadata": {},
   "outputs": [],
   "source": [
    "t = (2, 3, 4, \"Raj\", 45,89, False, 45+5J)   # t stands for tuple"
   ]
  },
  {
   "cell_type": "code",
   "execution_count": 237,
   "id": "37080ff8-4667-4c80-b187-e8c0794b93e2",
   "metadata": {},
   "outputs": [
    {
     "data": {
      "text/plain": [
       "tuple"
      ]
     },
     "execution_count": 237,
     "metadata": {},
     "output_type": "execute_result"
    }
   ],
   "source": [
    "type(t)"
   ]
  },
  {
   "cell_type": "code",
   "execution_count": 239,
   "id": "f69acb31-b039-4197-aad4-7a22b1c5f1f6",
   "metadata": {},
   "outputs": [
    {
     "data": {
      "text/plain": [
       "8"
      ]
     },
     "execution_count": 239,
     "metadata": {},
     "output_type": "execute_result"
    }
   ],
   "source": [
    "len(t)"
   ]
  },
  {
   "cell_type": "code",
   "execution_count": 241,
   "id": "bf1b48a7-2302-49cb-9a5f-57179390fe8e",
   "metadata": {},
   "outputs": [
    {
     "data": {
      "text/plain": [
       "2"
      ]
     },
     "execution_count": 241,
     "metadata": {},
     "output_type": "execute_result"
    }
   ],
   "source": [
    "t[0]"
   ]
  },
  {
   "cell_type": "code",
   "execution_count": 243,
   "id": "df7c43c1-658b-4ff3-9056-8609ebc70dcb",
   "metadata": {},
   "outputs": [
    {
     "data": {
      "text/plain": [
       "False"
      ]
     },
     "execution_count": 243,
     "metadata": {},
     "output_type": "execute_result"
    }
   ],
   "source": [
    "t[-2]"
   ]
  },
  {
   "cell_type": "code",
   "execution_count": 245,
   "id": "d27fb2c3-89a2-4e83-9905-1f12b7eebf3c",
   "metadata": {},
   "outputs": [
    {
     "data": {
      "text/plain": [
       "((45+5j), False, 89, 45, 'Raj', 4, 3, 2)"
      ]
     },
     "execution_count": 245,
     "metadata": {},
     "output_type": "execute_result"
    }
   ],
   "source": [
    "t[::-1]"
   ]
  },
  {
   "cell_type": "code",
   "execution_count": 247,
   "id": "e552e2d3-4706-45ba-91fa-1348fc70ef4a",
   "metadata": {},
   "outputs": [
    {
     "data": {
      "text/plain": [
       "['data', 'science', 'apple', 'Mango', 'bat']"
      ]
     },
     "execution_count": 247,
     "metadata": {},
     "output_type": "execute_result"
    }
   ],
   "source": [
    "l5"
   ]
  },
  {
   "cell_type": "code",
   "execution_count": 251,
   "id": "ddc7c762-75c2-4f49-a005-ce73c2b50067",
   "metadata": {},
   "outputs": [
    {
     "data": {
      "text/plain": [
       "6"
      ]
     },
     "execution_count": 251,
     "metadata": {},
     "output_type": "execute_result"
    }
   ],
   "source": [
    "t.index(False)"
   ]
  },
  {
   "cell_type": "code",
   "execution_count": 252,
   "id": "964c0fe5-f497-43c4-afe5-20229ef6a1b7",
   "metadata": {},
   "outputs": [],
   "source": [
    "s1={ }"
   ]
  },
  {
   "cell_type": "code",
   "execution_count": 254,
   "id": "ac878650-baf3-425a-b6f3-1901a3dcc070",
   "metadata": {},
   "outputs": [
    {
     "data": {
      "text/plain": [
       "dict"
      ]
     },
     "execution_count": 254,
     "metadata": {},
     "output_type": "execute_result"
    }
   ],
   "source": [
    "type(s1)"
   ]
  },
  {
   "cell_type": "code",
   "execution_count": 256,
   "id": "2a3a34d8-48a6-4310-aaa4-af4a78a3983c",
   "metadata": {},
   "outputs": [],
   "source": [
    "s2={2,3, 4, 5,5}"
   ]
  },
  {
   "cell_type": "code",
   "execution_count": 259,
   "id": "d2f06d36-3924-4bb3-addf-8b80c9bff807",
   "metadata": {},
   "outputs": [
    {
     "data": {
      "text/plain": [
       "set"
      ]
     },
     "execution_count": 259,
     "metadata": {},
     "output_type": "execute_result"
    }
   ],
   "source": [
    "type(s2)"
   ]
  },
  {
   "cell_type": "code",
   "execution_count": 263,
   "id": "4e15ad50-650c-43a2-a307-d41edad69ec3",
   "metadata": {},
   "outputs": [],
   "source": [
    "s3 = {324, 456, \"Raj\" , 45+8j, 34.56, (2,3,4)}"
   ]
  },
  {
   "cell_type": "code",
   "execution_count": 267,
   "id": "98933173-7779-48f2-a8ba-4230337ae4b6",
   "metadata": {},
   "outputs": [
    {
     "data": {
      "text/plain": [
       "{(2, 3, 4), (45+8j), 324, 34.56, 456, 'Raj'}"
      ]
     },
     "execution_count": 267,
     "metadata": {},
     "output_type": "execute_result"
    }
   ],
   "source": [
    "s3"
   ]
  },
  {
   "cell_type": "code",
   "execution_count": 269,
   "id": "8c62465c-8991-4df8-8d1d-ba98dae02788",
   "metadata": {},
   "outputs": [],
   "source": [
    "s4={2,3,3,4,5,6,7,5,4,3,2,3,4,6,7,8,5,1,1,1,2,3,3,4,5}"
   ]
  },
  {
   "cell_type": "code",
   "execution_count": 271,
   "id": "dd28474e-e2b7-4c6f-8fa8-3d3cab8736dc",
   "metadata": {},
   "outputs": [
    {
     "data": {
      "text/plain": [
       "{1, 2, 3, 4, 5, 6, 7, 8}"
      ]
     },
     "execution_count": 271,
     "metadata": {},
     "output_type": "execute_result"
    }
   ],
   "source": [
    "s4   #gives only unique numbers "
   ]
  },
  {
   "cell_type": "code",
   "execution_count": null,
   "id": "4efbd1b7-af12-4e56-ab2b-885df52ae5de",
   "metadata": {},
   "outputs": [],
   "source": []
  }
 ],
 "metadata": {
  "kernelspec": {
   "display_name": "Python 3 (ipykernel)",
   "language": "python",
   "name": "python3"
  },
  "language_info": {
   "codemirror_mode": {
    "name": "ipython",
    "version": 3
   },
   "file_extension": ".py",
   "mimetype": "text/x-python",
   "name": "python",
   "nbconvert_exporter": "python",
   "pygments_lexer": "ipython3",
   "version": "3.10.8"
  }
 },
 "nbformat": 4,
 "nbformat_minor": 5
}
