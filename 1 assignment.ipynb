{
 "cells": [
  {
   "cell_type": "code",
   "execution_count": 1,
   "id": "059ed71c-7ea9-44ec-bd8e-307cc4e5c086",
   "metadata": {},
   "outputs": [],
   "source": [
    "#Q1. Explain with an example each when to use a for loop and a while loop."
   ]
  },
  {
   "cell_type": "code",
   "execution_count": 2,
   "id": "676be047-e0a2-4512-bfa9-63a32db96308",
   "metadata": {},
   "outputs": [],
   "source": [
    "#Use a for loop when you know the loop should execute n times."
   ]
  },
  {
   "cell_type": "code",
   "execution_count": 3,
   "id": "a6dd373d-6a19-483d-9adb-449a01f01d89",
   "metadata": {},
   "outputs": [],
   "source": [
    "#Use a while loop for reading a file into a variable\n",
    "#Use a while loop when asking for user input\n",
    "#Use a while loop when the increment value is nonstandard"
   ]
  },
  {
   "cell_type": "code",
   "execution_count": 5,
   "id": "32b4f3eb-ac99-4b2e-a3d0-478ffac99c8e",
   "metadata": {},
   "outputs": [
    {
     "name": "stdout",
     "output_type": "stream",
     "text": [
      "company A\n",
      "Company B\n",
      "company C\n"
     ]
    }
   ],
   "source": [
    "supplier=[\"company A\", \"Company B\", \"company C\"]\n",
    "for x in supplier:\n",
    "    print(x)"
   ]
  },
  {
   "cell_type": "code",
   "execution_count": 15,
   "id": "3b2bcf31-e445-4555-9596-779e548f8843",
   "metadata": {},
   "outputs": [
    {
     "name": "stdout",
     "output_type": "stream",
     "text": [
      "0\n",
      "1\n",
      "3\n",
      "6\n",
      "10\n",
      "15\n"
     ]
    }
   ],
   "source": [
    "#loop while a count is less than 6.\n",
    "count = 6\n",
    "sum=0\n",
    "i= 0\n",
    "while(i<count):\n",
    "    sum=sum+i\n",
    "    i=i+1\n",
    "    print(sum)\n"
   ]
  },
  {
   "cell_type": "code",
   "execution_count": 17,
   "id": "15522386-4f28-454f-8335-144678a5bcc9",
   "metadata": {},
   "outputs": [],
   "source": [
    "#Q2. Write a python program to print the sum and product of the first 10 natural numbers using for\n",
    "#and while loop."
   ]
  },
  {
   "cell_type": "code",
   "execution_count": 18,
   "id": "cd0f4dd1-05bb-41d6-b838-96cc9dcbd046",
   "metadata": {},
   "outputs": [],
   "source": [
    "n=[1,2,3,4,5,6,7,8,9,10]"
   ]
  },
  {
   "cell_type": "code",
   "execution_count": null,
   "id": "95dfa989-3ac5-4c41-81f1-dd410a27b9fb",
   "metadata": {},
   "outputs": [],
   "source": [
    "sum=0\n",
    "for i in n:\n",
    "    sum=sum+i\n",
    "sum"
   ]
  },
  {
   "cell_type": "code",
   "execution_count": null,
   "id": "ce8a8142-6427-4a2f-80d9-3dcc6cf87abc",
   "metadata": {},
   "outputs": [],
   "source": [
    "n=10\n",
    "sum=0\n",
    "i=0\n",
    "while(i<n):\n",
    "    sum=sum+i\n",
    "    i=i+1\n",
    "    print(sum)"
   ]
  },
  {
   "cell_type": "code",
   "execution_count": null,
   "id": "91af606c-2601-455f-86ac-5f959af350b6",
   "metadata": {},
   "outputs": [],
   "source": [
    "#Q3. Create a python program to compute the electricity bill for a household."
   ]
  },
  {
   "cell_type": "code",
   "execution_count": 1,
   "id": "1c7f7168-55ce-41ca-96c4-9ee8850f7ad3",
   "metadata": {},
   "outputs": [
    {
     "name": "stdin",
     "output_type": "stream",
     "text": [
      "Enter the units consumed ?: 670\n"
     ]
    },
    {
     "name": "stdout",
     "output_type": "stream",
     "text": [
      "10550\n"
     ]
    }
   ],
   "source": [
    "units = int(input(\"Enter the units consumed ?:\"))\n",
    "if (units<100):\n",
    "    amt=unit*4.50\n",
    "    print(amt)\n",
    "elif(units<=200):\n",
    "    amt=450+((unit-100)*6)\n",
    "    print(amt)\n",
    "elif(units<=300):\n",
    "    amt=1150+((unit-200)*10)\n",
    "    print(amt)\n",
    "else:\n",
    "    amt=3150+((units-300)*20)\n",
    "    print(amt)"
   ]
  },
  {
   "cell_type": "code",
   "execution_count": 2,
   "id": "b0687f99-5e8a-49ce-a034-3d259566b51a",
   "metadata": {},
   "outputs": [],
   "source": [
    "#Write a program to filter count vowels in the below-given string.\n",
    "#string = \"I want to become a data scientist\""
   ]
  },
  {
   "cell_type": "code",
   "execution_count": null,
   "id": "9a8c4033-7624-4d69-8e62-93adce760eba",
   "metadata": {},
   "outputs": [],
   "source": []
  },
  {
   "cell_type": "code",
   "execution_count": 3,
   "id": "4d7b512e-f3fe-409b-ba28-e3ddaeeef866",
   "metadata": {},
   "outputs": [],
   "source": [
    "#Create a list of numbers from 1 to 100. Use for loop and while loop to calculate the cube of each\n",
    "#number and if the cube of that number is divisible by 4 or 5 then append that number in a list and print\n",
    "#that list."
   ]
  },
  {
   "cell_type": "code",
   "execution_count": null,
   "id": "c63c1378-01e0-4d5d-aeb4-7781796a3107",
   "metadata": {},
   "outputs": [],
   "source": [
    "cubes=[]\n",
    "for num in range(1,101):\n",
    "    cube = num**3\n",
    "    if cube % 4==0 or cube %5==0:\n",
    "     cubes.append(num)\n",
    "print(cubes)"
   ]
  },
  {
   "cell_type": "code",
   "execution_count": null,
   "id": "148bc6ef-9470-45de-9358-d7d90445808f",
   "metadata": {},
   "outputs": [],
   "source": [
    "#while loop\n",
    "cubes = []\n",
    "counter = 1\n",
    "num = 1\n",
    "\n",
    "while num <= 100:\n",
    "    cube = num**3\n",
    "    if cube %4==0 or cube % 5==0:\n",
    "        cubes.append(num)\n",
    "        counter+=1\n",
    "        num = counter\n",
    "        \n",
    "print(cubes)"
   ]
  }
 ],
 "metadata": {
  "kernelspec": {
   "display_name": "Python 3 (ipykernel)",
   "language": "python",
   "name": "python3"
  },
  "language_info": {
   "codemirror_mode": {
    "name": "ipython",
    "version": 3
   },
   "file_extension": ".py",
   "mimetype": "text/x-python",
   "name": "python",
   "nbconvert_exporter": "python",
   "pygments_lexer": "ipython3",
   "version": "3.10.8"
  }
 },
 "nbformat": 4,
 "nbformat_minor": 5
}
