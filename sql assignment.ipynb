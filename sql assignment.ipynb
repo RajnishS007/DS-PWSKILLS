{
 "cells": [
  {
   "cell_type": "code",
   "execution_count": 2,
   "id": "0ab35e10-2db1-44aa-856b-b3e96b010970",
   "metadata": {},
   "outputs": [
    {
     "data": {
      "text/plain": [
       "'Q1. What is a database? Differentiate between SQL and NoSQL databases.'"
      ]
     },
     "execution_count": 2,
     "metadata": {},
     "output_type": "execute_result"
    }
   ],
   "source": [
    "\"Q1. What is a database? Differentiate between SQL and NoSQL databases.\""
   ]
  },
  {
   "cell_type": "code",
   "execution_count": 5,
   "id": "0edc2b3c-5c85-4e19-9b30-26947fad3f2f",
   "metadata": {},
   "outputs": [],
   "source": [
    "#A database is structeured or organised collection of information stored electronically in a computer system.\n",
    "#SQL - is structured query language is a language that uses to acces and manipulation  relational database.\n",
    "#Nosql -  not only sql are non-tabular databases and store data differently than relational tables.\""
   ]
  },
  {
   "cell_type": "code",
   "execution_count": null,
   "id": "1aa36503-c132-498b-97bd-a100dbe67b37",
   "metadata": {},
   "outputs": [],
   "source": []
  }
 ],
 "metadata": {
  "kernelspec": {
   "display_name": "Python 3 (ipykernel)",
   "language": "python",
   "name": "python3"
  },
  "language_info": {
   "codemirror_mode": {
    "name": "ipython",
    "version": 3
   },
   "file_extension": ".py",
   "mimetype": "text/x-python",
   "name": "python",
   "nbconvert_exporter": "python",
   "pygments_lexer": "ipython3",
   "version": "3.10.8"
  }
 },
 "nbformat": 4,
 "nbformat_minor": 5
}
