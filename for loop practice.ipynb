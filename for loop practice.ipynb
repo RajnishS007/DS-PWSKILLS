{
 "cells": [
  {
   "cell_type": "code",
   "execution_count": 1,
   "id": "5f4f162a-1f40-4c6f-bdb8-6d0cae1e7782",
   "metadata": {},
   "outputs": [],
   "source": [
    "l = [1,2,3,4,5]"
   ]
  },
  {
   "cell_type": "code",
   "execution_count": 5,
   "id": "a38bd02d-02e5-42ed-85c0-06b93227dae8",
   "metadata": {},
   "outputs": [
    {
     "name": "stdout",
     "output_type": "stream",
     "text": [
      "2 <class 'int'>\n",
      "4 <class 'int'>\n",
      "6 <class 'int'>\n",
      "8 <class 'int'>\n",
      "10 <class 'int'>\n"
     ]
    }
   ],
   "source": [
    "for i in l :\n",
    "    print(i+i, type(i))"
   ]
  },
  {
   "cell_type": "code",
   "execution_count": 6,
   "id": "a5abfa2d-3fa1-4b48-a1b8-75bb94387a07",
   "metadata": {},
   "outputs": [],
   "source": [
    "l1=[\"raj\", \"mukesh\",\"mohan\",\"naik\"]"
   ]
  },
  {
   "cell_type": "code",
   "execution_count": 8,
   "id": "47778dc8-4201-4bcf-99e2-97bbb49fe025",
   "metadata": {},
   "outputs": [
    {
     "name": "stdout",
     "output_type": "stream",
     "text": [
      "raj\n",
      "mukesh\n",
      "mohan\n",
      "naik\n"
     ]
    }
   ],
   "source": [
    "for i in l1:\n",
    "    print(i)"
   ]
  },
  {
   "cell_type": "code",
   "execution_count": 11,
   "id": "647a564d-af05-4b22-9d66-30602977db11",
   "metadata": {},
   "outputs": [
    {
     "name": "stdout",
     "output_type": "stream",
     "text": [
      "raj\n",
      "mukesh\n",
      "mohan\n",
      "naik\n",
      "If for loop is completed only then else will be executed\n"
     ]
    }
   ],
   "source": [
    "for i in l1 :\n",
    "    print(i)\n",
    "else:\n",
    "    print(\"If for loop is completed only then else will be executed\")"
   ]
  },
  {
   "cell_type": "code",
   "execution_count": 13,
   "id": "5ccb9474-cca4-40d6-b65a-793f5accca32",
   "metadata": {},
   "outputs": [
    {
     "data": {
      "text/plain": [
       "['raj', 'mukesh', 'mohan', 'naik']"
      ]
     },
     "execution_count": 13,
     "metadata": {},
     "output_type": "execute_result"
    }
   ],
   "source": [
    "l1"
   ]
  },
  {
   "cell_type": "code",
   "execution_count": 17,
   "id": "93640bd2-b454-4235-89b4-1a325378cbe5",
   "metadata": {},
   "outputs": [
    {
     "name": "stdout",
     "output_type": "stream",
     "text": [
      "raj\n"
     ]
    }
   ],
   "source": [
    "for i in l1:\n",
    "    if i ==\"mukesh\":\n",
    "        break\n",
    "    print(i)"
   ]
  },
  {
   "cell_type": "code",
   "execution_count": 22,
   "id": "c2247bb5-4fb4-4e4f-a78a-9f72736f3ac4",
   "metadata": {},
   "outputs": [
    {
     "data": {
      "text/plain": [
       "['raj', 'mukesh', 'mohan', 'naik']"
      ]
     },
     "execution_count": 22,
     "metadata": {},
     "output_type": "execute_result"
    }
   ],
   "source": [
    "#for loop with else\n",
    "\n",
    "l1\n"
   ]
  },
  {
   "cell_type": "code",
   "execution_count": 21,
   "id": "c55fd5bf-d2c6-4392-8397-1f0c5f855508",
   "metadata": {},
   "outputs": [
    {
     "name": "stdout",
     "output_type": "stream",
     "text": [
      "raj\n"
     ]
    }
   ],
   "source": [
    "for i in l1:\n",
    "    if i==\"mukesh\":\n",
    "        break\n",
    "    print(i)\n",
    "else:\n",
    "    print(\"execute thid if for loop is able to complete itself\")"
   ]
  },
  {
   "cell_type": "code",
   "execution_count": 25,
   "id": "2ad93e4d-b926-49d8-b51e-7c434a65b4d8",
   "metadata": {},
   "outputs": [
    {
     "name": "stdout",
     "output_type": "stream",
     "text": [
      "raj\n",
      "mohan\n",
      "naik\n"
     ]
    }
   ],
   "source": [
    "for i in l1:\n",
    "    if i ==\"mukesh\":\n",
    "        continue\n",
    "    print(i)                 # for loop with continue;"
   ]
  },
  {
   "cell_type": "code",
   "execution_count": 27,
   "id": "8df273b0-6909-4940-89b2-7ed6472307c2",
   "metadata": {},
   "outputs": [
    {
     "name": "stdout",
     "output_type": "stream",
     "text": [
      "raj\n",
      "mohan\n",
      "naik\n",
      "execute this if for loop is able to complete it self\n"
     ]
    }
   ],
   "source": [
    "for i in l1:\n",
    "    if i==\"mukesh\":\n",
    "        continue\n",
    "    print(i)\n",
    "else:\n",
    "    print(\"execute this if for loop is able to complete it self\")"
   ]
  },
  {
   "cell_type": "code",
   "execution_count": 29,
   "id": "1d253b67-1bc3-4e27-8c5c-1d1f2a814373",
   "metadata": {},
   "outputs": [
    {
     "data": {
      "text/plain": [
       "range(0, 5)"
      ]
     },
     "execution_count": 29,
     "metadata": {},
     "output_type": "execute_result"
    }
   ],
   "source": [
    "range(5)"
   ]
  },
  {
   "cell_type": "code",
   "execution_count": 30,
   "id": "6d0262a3-1bcd-4a0c-876a-68b6129d5225",
   "metadata": {},
   "outputs": [
    {
     "data": {
      "text/plain": [
       "[0, 1, 2, 3, 4]"
      ]
     },
     "execution_count": 30,
     "metadata": {},
     "output_type": "execute_result"
    }
   ],
   "source": [
    "list(range(5))"
   ]
  },
  {
   "cell_type": "code",
   "execution_count": 32,
   "id": "c21436d4-1681-4dda-b538-b30ad40382de",
   "metadata": {},
   "outputs": [
    {
     "data": {
      "text/plain": [
       "[0, 1, 2, 3, 4]"
      ]
     },
     "execution_count": 32,
     "metadata": {},
     "output_type": "execute_result"
    }
   ],
   "source": [
    "list(range(0,5,1))"
   ]
  },
  {
   "cell_type": "code",
   "execution_count": 36,
   "id": "da0d346f-9030-4e05-826e-7367588e9894",
   "metadata": {},
   "outputs": [
    {
     "data": {
      "text/plain": [
       "range(0, 20, 2)"
      ]
     },
     "execution_count": 36,
     "metadata": {},
     "output_type": "execute_result"
    }
   ],
   "source": [
    "range(0,20,2)"
   ]
  },
  {
   "cell_type": "code",
   "execution_count": 38,
   "id": "2c6296a1-ee99-42f3-9950-d6e8279ccce7",
   "metadata": {},
   "outputs": [
    {
     "data": {
      "text/plain": [
       "[0, 2, 4, 6, 8, 10, 12, 14, 16, 18]"
      ]
     },
     "execution_count": 38,
     "metadata": {},
     "output_type": "execute_result"
    }
   ],
   "source": [
    "list(range(0,20,2))"
   ]
  },
  {
   "cell_type": "code",
   "execution_count": 40,
   "id": "bec18744-e09f-4a26-9f76-0d096176e93d",
   "metadata": {},
   "outputs": [
    {
     "data": {
      "text/plain": [
       "[-10, -9, -8, -7, -6, -5, -4, -3, -2, -1]"
      ]
     },
     "execution_count": 40,
     "metadata": {},
     "output_type": "execute_result"
    }
   ],
   "source": [
    "list(range(-10,0))"
   ]
  },
  {
   "cell_type": "code",
   "execution_count": 42,
   "id": "298d4426-20c6-4d44-8aa9-2117a044c946",
   "metadata": {},
   "outputs": [
    {
     "data": {
      "text/plain": [
       "['raj', 'mukesh', 'mohan', 'naik']"
      ]
     },
     "execution_count": 42,
     "metadata": {},
     "output_type": "execute_result"
    }
   ],
   "source": [
    "l1"
   ]
  },
  {
   "cell_type": "code",
   "execution_count": 44,
   "id": "cf17eef9-26b0-4dc3-a130-8b8d13340921",
   "metadata": {},
   "outputs": [
    {
     "data": {
      "text/plain": [
       "[0, 1, 2, 3]"
      ]
     },
     "execution_count": 44,
     "metadata": {},
     "output_type": "execute_result"
    }
   ],
   "source": [
    "list(range(len(l1)))"
   ]
  },
  {
   "cell_type": "code",
   "execution_count": 48,
   "id": "c56c51f5-ee47-4461-bae7-c3c4ae9223fc",
   "metadata": {},
   "outputs": [
    {
     "name": "stdout",
     "output_type": "stream",
     "text": [
      "raj\n",
      "mukesh\n",
      "mohan\n",
      "naik\n"
     ]
    }
   ],
   "source": [
    "for i in range(len(l1)):\n",
    "    print(l1[i])"
   ]
  },
  {
   "cell_type": "code",
   "execution_count": 51,
   "id": "4de92197-736e-4ab0-ae23-83b6e88edc05",
   "metadata": {},
   "outputs": [
    {
     "data": {
      "text/plain": [
       "[3, 2, 1, 0]"
      ]
     },
     "execution_count": 51,
     "metadata": {},
     "output_type": "execute_result"
    }
   ],
   "source": [
    "list(range(len(l1)-1,-1,-1))\n"
   ]
  },
  {
   "cell_type": "code",
   "execution_count": 53,
   "id": "6ec26681-18cb-4c4f-884e-492be057c3bc",
   "metadata": {},
   "outputs": [
    {
     "name": "stdout",
     "output_type": "stream",
     "text": [
      "naik\n",
      "mohan\n",
      "mukesh\n",
      "raj\n"
     ]
    }
   ],
   "source": [
    "for i in range(len(l1)-1,-1,-1):\n",
    "    print(l1[i])"
   ]
  },
  {
   "cell_type": "code",
   "execution_count": 54,
   "id": "14bc7c53-aacb-4691-9a30-01d60ab0b752",
   "metadata": {},
   "outputs": [],
   "source": [
    "l2= [23,67,896,97,97,67,85,45,67,9,5,5]"
   ]
  },
  {
   "cell_type": "code",
   "execution_count": 57,
   "id": "c225b8e8-fa00-4577-be77-b402c4c205a7",
   "metadata": {},
   "outputs": [
    {
     "data": {
      "text/plain": [
       "[0, 2, 4, 6, 8, 10]"
      ]
     },
     "execution_count": 57,
     "metadata": {},
     "output_type": "execute_result"
    }
   ],
   "source": [
    "list(range(0,len(l2), 2))"
   ]
  },
  {
   "cell_type": "raw",
   "id": "e4fa725b-b662-43b9-8df0-a83b22236d05",
   "metadata": {},
   "source": []
  },
  {
   "cell_type": "code",
   "execution_count": 59,
   "id": "bda5c068-0e6d-4220-9edb-50ad7d7ea102",
   "metadata": {},
   "outputs": [
    {
     "name": "stdout",
     "output_type": "stream",
     "text": [
      "23\n",
      "896\n",
      "97\n",
      "85\n",
      "67\n",
      "5\n"
     ]
    }
   ],
   "source": [
    "for i in range(0, len(l2), 2):\n",
    "     print(l2[i])"
   ]
  },
  {
   "cell_type": "code",
   "execution_count": 66,
   "id": "ffa6ea2d-51c3-4435-8d89-9cb007e2659b",
   "metadata": {},
   "outputs": [],
   "source": [
    "l=[1,2,3,4,5,6,7,7,8,78,7,89]"
   ]
  },
  {
   "cell_type": "code",
   "execution_count": 67,
   "id": "bd2f62da-d645-4aae-a641-941226d5a86d",
   "metadata": {},
   "outputs": [
    {
     "data": {
      "text/plain": [
       "217"
      ]
     },
     "execution_count": 67,
     "metadata": {},
     "output_type": "execute_result"
    }
   ],
   "source": [
    "sum(l)"
   ]
  },
  {
   "cell_type": "code",
   "execution_count": 71,
   "id": "d8ed7ece-e9f2-4d9d-a4fd-fda93c286275",
   "metadata": {},
   "outputs": [
    {
     "ename": "TypeError",
     "evalue": "'int' object is not iterable",
     "output_type": "error",
     "traceback": [
      "\u001b[0;31m---------------------------------------------------------------------------\u001b[0m",
      "\u001b[0;31mTypeError\u001b[0m                                 Traceback (most recent call last)",
      "Cell \u001b[0;32mIn[71], line 2\u001b[0m\n\u001b[1;32m      1\u001b[0m \u001b[38;5;28msum\u001b[39m \u001b[38;5;241m=\u001b[39m\u001b[38;5;241m0\u001b[39m\n\u001b[0;32m----> 2\u001b[0m \u001b[38;5;28;01mfor\u001b[39;00m i \u001b[38;5;129;01min\u001b[39;00m i:\n\u001b[1;32m      3\u001b[0m     \u001b[38;5;28msum\u001b[39m \u001b[38;5;241m=\u001b[39m \u001b[38;5;28msum\u001b[39m\u001b[38;5;241m+\u001b[39mi\n\u001b[1;32m      4\u001b[0m \u001b[38;5;28msum\u001b[39m\n",
      "\u001b[0;31mTypeError\u001b[0m: 'int' object is not iterable"
     ]
    }
   ],
   "source": [
    "sum =0\n",
    "for i in i:\n",
    "    sum = sum+i\n",
    "sum"
   ]
  },
  {
   "cell_type": "code",
   "execution_count": 72,
   "id": "484db83c-75ec-43fa-b2fb-876a37f7b669",
   "metadata": {},
   "outputs": [],
   "source": [
    "t= (1,2,3,4,5,6,7,8)"
   ]
  },
  {
   "cell_type": "code",
   "execution_count": 74,
   "id": "a784bf06-8645-40fd-b196-11dff4231181",
   "metadata": {},
   "outputs": [
    {
     "name": "stdout",
     "output_type": "stream",
     "text": [
      "1\n",
      "2\n",
      "3\n",
      "4\n",
      "5\n",
      "6\n",
      "7\n",
      "8\n"
     ]
    }
   ],
   "source": [
    "for i in t:\n",
    "    print(i)"
   ]
  },
  {
   "cell_type": "code",
   "execution_count": 77,
   "id": "00c13992-88f6-4529-8f9e-5877bd163f49",
   "metadata": {},
   "outputs": [
    {
     "data": {
      "text/plain": [
       "36"
      ]
     },
     "execution_count": 77,
     "metadata": {},
     "output_type": "execute_result"
    }
   ],
   "source": [
    "sum=0\n",
    "for i in t:\n",
    "    sum=sum+i\n",
    "sum"
   ]
  },
  {
   "cell_type": "code",
   "execution_count": 78,
   "id": "264dc814-1cf2-4ac0-bf10-882f8d802fa1",
   "metadata": {},
   "outputs": [],
   "source": [
    "s1=\"PWSKILLS\""
   ]
  },
  {
   "cell_type": "code",
   "execution_count": 80,
   "id": "1f8cff51-2157-4d05-9180-264aed833b46",
   "metadata": {},
   "outputs": [
    {
     "name": "stdout",
     "output_type": "stream",
     "text": [
      "P\n",
      "W\n",
      "S\n",
      "K\n",
      "I\n",
      "L\n",
      "L\n",
      "S\n"
     ]
    }
   ],
   "source": [
    "for i in s1:\n",
    "    print(i)"
   ]
  },
  {
   "cell_type": "code",
   "execution_count": 81,
   "id": "c0c549c1-1263-4659-8b74-2a58e8bd1e61",
   "metadata": {},
   "outputs": [],
   "source": [
    "d = {\"name\":\"Raj\", \"class\":\"DS\", \n",
    "     \"topic\":[\"python\",\"stats\",\"Machine learning\",\"DL\", \"NLP\",\"resume\",\"interview\"]}"
   ]
  },
  {
   "cell_type": "code",
   "execution_count": 83,
   "id": "e1f0f863-afc1-49ed-9075-4da3ed73e8f5",
   "metadata": {},
   "outputs": [
    {
     "data": {
      "text/plain": [
       "dict_keys(['name', 'class', 'topic'])"
      ]
     },
     "execution_count": 83,
     "metadata": {},
     "output_type": "execute_result"
    }
   ],
   "source": [
    "d.keys()"
   ]
  },
  {
   "cell_type": "code",
   "execution_count": 88,
   "id": "81c8c957-42ca-4e41-946a-fd3cd4acf2bd",
   "metadata": {},
   "outputs": [
    {
     "name": "stdout",
     "output_type": "stream",
     "text": [
      "Raj\n",
      "DS\n",
      "['python', 'stats', 'Machine learning', 'DL', 'NLP', 'resume', 'interview']\n"
     ]
    }
   ],
   "source": [
    "for i in d.keys():\n",
    "    print(d[i])"
   ]
  },
  {
   "cell_type": "code",
   "execution_count": 89,
   "id": "2f910219-acc1-4d18-ad75-8b0fceef64be",
   "metadata": {},
   "outputs": [
    {
     "data": {
      "text/plain": [
       "dict_values(['Raj', 'DS', ['python', 'stats', 'Machine learning', 'DL', 'NLP', 'resume', 'interview']])"
      ]
     },
     "execution_count": 89,
     "metadata": {},
     "output_type": "execute_result"
    }
   ],
   "source": [
    "d.values()"
   ]
  },
  {
   "cell_type": "code",
   "execution_count": 91,
   "id": "bc8cd4b2-a6fd-43c2-b44e-a0573a4da197",
   "metadata": {},
   "outputs": [
    {
     "data": {
      "text/plain": [
       "dict_items([('name', 'Raj'), ('class', 'DS'), ('topic', ['python', 'stats', 'Machine learning', 'DL', 'NLP', 'resume', 'interview'])])"
      ]
     },
     "execution_count": 91,
     "metadata": {},
     "output_type": "execute_result"
    }
   ],
   "source": [
    "d.items()\n"
   ]
  },
  {
   "cell_type": "code",
   "execution_count": 93,
   "id": "0be76ab2-9d22-432e-94ac-147a2d193065",
   "metadata": {},
   "outputs": [
    {
     "name": "stdout",
     "output_type": "stream",
     "text": [
      "('name', 'Raj')\n",
      "('class', 'DS')\n",
      "('topic', ['python', 'stats', 'Machine learning', 'DL', 'NLP', 'resume', 'interview'])\n"
     ]
    }
   ],
   "source": [
    "for i in d.items():\n",
    "    print(i)"
   ]
  },
  {
   "cell_type": "code",
   "execution_count": null,
   "id": "1c64493e-1e53-4887-9263-3eaa454e986f",
   "metadata": {},
   "outputs": [],
   "source": []
  }
 ],
 "metadata": {
  "kernelspec": {
   "display_name": "Python 3 (ipykernel)",
   "language": "python",
   "name": "python3"
  },
  "language_info": {
   "codemirror_mode": {
    "name": "ipython",
    "version": 3
   },
   "file_extension": ".py",
   "mimetype": "text/x-python",
   "name": "python",
   "nbconvert_exporter": "python",
   "pygments_lexer": "ipython3",
   "version": "3.10.8"
  }
 },
 "nbformat": 4,
 "nbformat_minor": 5
}
