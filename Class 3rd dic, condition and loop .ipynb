{
 "cells": [
  {
   "cell_type": "code",
   "execution_count": 1,
   "id": "6df9e786-3d58-4972-937a-c5841b66a67a",
   "metadata": {},
   "outputs": [],
   "source": [
    "d= {}"
   ]
  },
  {
   "cell_type": "code",
   "execution_count": 3,
   "id": "e00ad398-c63f-4847-be0e-e47053b88a3c",
   "metadata": {},
   "outputs": [
    {
     "data": {
      "text/plain": [
       "dict"
      ]
     },
     "execution_count": 3,
     "metadata": {},
     "output_type": "execute_result"
    }
   ],
   "source": [
    "type(d)"
   ]
  },
  {
   "cell_type": "code",
   "execution_count": 4,
   "id": "39e92182-f8c0-4e06-813e-b3880f4f3e02",
   "metadata": {},
   "outputs": [],
   "source": [
    "d1={'key':\"Raj\"}"
   ]
  },
  {
   "cell_type": "code",
   "execution_count": 5,
   "id": "f1c3387e-c092-44f9-b939-ca4ecb0e1c32",
   "metadata": {},
   "outputs": [],
   "source": [
    "d2={'name':\"sudhanshu\",\"email\":\"ss@gmail.com\", \"number\":7585887}"
   ]
  },
  {
   "cell_type": "code",
   "execution_count": 7,
   "id": "52df6109-c7c4-4ac6-8837-5a576612ea41",
   "metadata": {},
   "outputs": [
    {
     "data": {
      "text/plain": [
       "{'name': 'sudhanshu', 'email': 'ss@gmail.com', 'number': 7585887}"
      ]
     },
     "execution_count": 7,
     "metadata": {},
     "output_type": "execute_result"
    }
   ],
   "source": [
    "d2"
   ]
  },
  {
   "cell_type": "code",
   "execution_count": 11,
   "id": "7b30c317-e939-4c3d-b153-8634e4749613",
   "metadata": {},
   "outputs": [],
   "source": [
    "d3={234:\"sudh\", \"@name\":\"kumar\"}"
   ]
  },
  {
   "cell_type": "code",
   "execution_count": 13,
   "id": "3aa45726-13e9-445e-a96c-d9c4bd8851c3",
   "metadata": {},
   "outputs": [
    {
     "data": {
      "text/plain": [
       "{234: 'sudh', '@name': 'kumar'}"
      ]
     },
     "execution_count": 13,
     "metadata": {},
     "output_type": "execute_result"
    }
   ],
   "source": [
    "d3"
   ]
  },
  {
   "cell_type": "code",
   "execution_count": 16,
   "id": "50b2a6c7-2888-4f62-9c50-0e332334b0f9",
   "metadata": {},
   "outputs": [
    {
     "data": {
      "text/plain": [
       "'sudh'"
      ]
     },
     "execution_count": 16,
     "metadata": {},
     "output_type": "execute_result"
    }
   ],
   "source": [
    "d3[234]"
   ]
  },
  {
   "cell_type": "code",
   "execution_count": 20,
   "id": "430fd307-f65b-4041-b320-caee06e0d4ed",
   "metadata": {},
   "outputs": [
    {
     "ename": "KeyError",
     "evalue": "True",
     "output_type": "error",
     "traceback": [
      "\u001b[0;31m---------------------------------------------------------------------------\u001b[0m",
      "\u001b[0;31mKeyError\u001b[0m                                  Traceback (most recent call last)",
      "Cell \u001b[0;32mIn[20], line 1\u001b[0m\n\u001b[0;32m----> 1\u001b[0m \u001b[43md3\u001b[49m\u001b[43m[\u001b[49m\u001b[38;5;28;43;01mTrue\u001b[39;49;00m\u001b[43m]\u001b[49m\n",
      "\u001b[0;31mKeyError\u001b[0m: True"
     ]
    }
   ],
   "source": [
    "d3[True]"
   ]
  },
  {
   "cell_type": "code",
   "execution_count": 24,
   "id": "ed373922-0523-41a4-be53-1d3c71d71384",
   "metadata": {},
   "outputs": [
    {
     "ename": "KeyError",
     "evalue": "1",
     "output_type": "error",
     "traceback": [
      "\u001b[0;31m---------------------------------------------------------------------------\u001b[0m",
      "\u001b[0;31mKeyError\u001b[0m                                  Traceback (most recent call last)",
      "Cell \u001b[0;32mIn[24], line 1\u001b[0m\n\u001b[0;32m----> 1\u001b[0m \u001b[43md3\u001b[49m\u001b[43m[\u001b[49m\u001b[38;5;241;43m1\u001b[39;49m\u001b[43m]\u001b[49m\n",
      "\u001b[0;31mKeyError\u001b[0m: 1"
     ]
    }
   ],
   "source": [
    "d3[1]"
   ]
  },
  {
   "cell_type": "code",
   "execution_count": 26,
   "id": "2141ae3e-de4f-4e26-a1da-87ae50b8023e",
   "metadata": {},
   "outputs": [],
   "source": [
    "d4={'name':'Rajnish', 'mail_id':\"rajnishsingh@gmail.com\",\"name\":\"sudhanshu\"}"
   ]
  },
  {
   "cell_type": "code",
   "execution_count": 28,
   "id": "d9799ee9-729c-4e64-8a09-8a2748a085ed",
   "metadata": {},
   "outputs": [
    {
     "data": {
      "text/plain": [
       "{'name': 'sudhanshu', 'mail_id': 'rajnishsingh@gmail.com'}"
      ]
     },
     "execution_count": 28,
     "metadata": {},
     "output_type": "execute_result"
    }
   ],
   "source": [
    "d4"
   ]
  },
  {
   "cell_type": "code",
   "execution_count": 30,
   "id": "53a27a3c-e84c-44ad-96c1-07bbaffced74",
   "metadata": {},
   "outputs": [
    {
     "data": {
      "text/plain": [
       "'sudhanshu'"
      ]
     },
     "execution_count": 30,
     "metadata": {},
     "output_type": "execute_result"
    }
   ],
   "source": [
    "d4['name']"
   ]
  },
  {
   "cell_type": "code",
   "execution_count": 34,
   "id": "da709633-0a12-440d-89ca-829d6e4b3807",
   "metadata": {},
   "outputs": [
    {
     "data": {
      "text/plain": [
       "'rajnishsingh@gmail.com'"
      ]
     },
     "execution_count": 34,
     "metadata": {},
     "output_type": "execute_result"
    }
   ],
   "source": [
    "d4['mail_id']"
   ]
  },
  {
   "cell_type": "code",
   "execution_count": 38,
   "id": "7592b7db-d937-4787-b03c-073f27629918",
   "metadata": {},
   "outputs": [],
   "source": [
    "d5={\"comapany\":\"pwskil\",\"course\":[\"web development\", \"data science\",\"DSA\"]}"
   ]
  },
  {
   "cell_type": "code",
   "execution_count": 41,
   "id": "65b34167-3de9-4f7a-ad94-926a6cb65592",
   "metadata": {},
   "outputs": [
    {
     "data": {
      "text/plain": [
       "'web development'"
      ]
     },
     "execution_count": 41,
     "metadata": {},
     "output_type": "execute_result"
    }
   ],
   "source": [
    "d5['course'][0]"
   ]
  },
  {
   "cell_type": "code",
   "execution_count": 47,
   "id": "230b4007-df2a-4324-aec1-fe9be8bca230",
   "metadata": {},
   "outputs": [],
   "source": [
    "d6={\"number\":[2,3,34,67,78], \"assignment\":[1,4,6,87,9],\"launch_date\":(28,12,14), \"class_timing\":{\"dsa\":6,\"web\":5,\"ds\":8}}"
   ]
  },
  {
   "cell_type": "code",
   "execution_count": 49,
   "id": "009d658a-ad96-4fbb-b17a-863b79570e3a",
   "metadata": {},
   "outputs": [
    {
     "data": {
      "text/plain": [
       "{'number': [2, 3, 34, 67, 78],\n",
       " 'assignment': [1, 4, 6, 87, 9],\n",
       " 'launch_date': (28, 12, 14),\n",
       " 'class_timing': {'dsa': 6, 'web': 5, 'ds': 8}}"
      ]
     },
     "execution_count": 49,
     "metadata": {},
     "output_type": "execute_result"
    }
   ],
   "source": [
    "d6"
   ]
  },
  {
   "cell_type": "code",
   "execution_count": 55,
   "id": "5e9ba151-ac40-4e03-93b0-c9a731bd1118",
   "metadata": {},
   "outputs": [
    {
     "data": {
      "text/plain": [
       "{'dsa': 6, 'web': 5, 'ds': 8}"
      ]
     },
     "execution_count": 55,
     "metadata": {},
     "output_type": "execute_result"
    }
   ],
   "source": [
    "d6[\"class_timing\"]"
   ]
  },
  {
   "cell_type": "code",
   "execution_count": 57,
   "id": "990dad5d-c958-49f1-8704-964b216f412c",
   "metadata": {},
   "outputs": [
    {
     "data": {
      "text/plain": [
       "6"
      ]
     },
     "execution_count": 57,
     "metadata": {},
     "output_type": "execute_result"
    }
   ],
   "source": [
    "d6[\"class_timing\"][\"dsa\"]"
   ]
  },
  {
   "cell_type": "code",
   "execution_count": 58,
   "id": "09c4916f-89f8-4eab-bb24-846125bff12a",
   "metadata": {},
   "outputs": [],
   "source": [
    "d6['mentor']=[\"sudhanshu\",\"Krish\",\"anurag\",\"haider\"]"
   ]
  },
  {
   "cell_type": "code",
   "execution_count": 60,
   "id": "2a079971-31f2-485a-81fe-415adb1cad53",
   "metadata": {},
   "outputs": [
    {
     "data": {
      "text/plain": [
       "{'number': [2, 3, 34, 67, 78],\n",
       " 'assignment': [1, 4, 6, 87, 9],\n",
       " 'launch_date': (28, 12, 14),\n",
       " 'class_timing': {'dsa': 6, 'web': 5, 'ds': 8},\n",
       " 'mentor': ['sudhanshu', 'Krish', 'anurag', 'haider']}"
      ]
     },
     "execution_count": 60,
     "metadata": {},
     "output_type": "execute_result"
    }
   ],
   "source": [
    "d6   #will update in previous d6 list "
   ]
  },
  {
   "cell_type": "code",
   "execution_count": 61,
   "id": "46878fec-9da0-4521-9853-f9e1c6e842ec",
   "metadata": {},
   "outputs": [],
   "source": [
    "del d6['number']"
   ]
  },
  {
   "cell_type": "code",
   "execution_count": 65,
   "id": "08784139-a3bc-4832-88bf-6aaa8e7de1d5",
   "metadata": {},
   "outputs": [
    {
     "data": {
      "text/plain": [
       "['assignment', 'launch_date', 'class_timing', 'mentor']"
      ]
     },
     "execution_count": 65,
     "metadata": {},
     "output_type": "execute_result"
    }
   ],
   "source": [
    "list(d6.keys())"
   ]
  },
  {
   "cell_type": "code",
   "execution_count": 67,
   "id": "20fd75ed-04b8-423e-99c7-79ed220e9b80",
   "metadata": {},
   "outputs": [
    {
     "data": {
      "text/plain": [
       "dict_items([('assignment', [1, 4, 6, 87, 9]), ('launch_date', (28, 12, 14)), ('class_timing', {'dsa': 6, 'web': 5, 'ds': 8}), ('mentor', ['sudhanshu', 'Krish', 'anurag', 'haider'])])"
      ]
     },
     "execution_count": 67,
     "metadata": {},
     "output_type": "execute_result"
    }
   ],
   "source": [
    "(d6.items())      #it holds tuple in its list"
   ]
  },
  {
   "cell_type": "code",
   "execution_count": 69,
   "id": "4fa2f551-3664-446c-9519-1b1e6d9b5531",
   "metadata": {},
   "outputs": [
    {
     "ename": "KeyError",
     "evalue": "'assignment'",
     "output_type": "error",
     "traceback": [
      "\u001b[0;31m---------------------------------------------------------------------------\u001b[0m",
      "\u001b[0;31mKeyError\u001b[0m                                  Traceback (most recent call last)",
      "Cell \u001b[0;32mIn[69], line 1\u001b[0m\n\u001b[0;32m----> 1\u001b[0m \u001b[43md6\u001b[49m\u001b[38;5;241;43m.\u001b[39;49m\u001b[43mpop\u001b[49m\u001b[43m(\u001b[49m\u001b[38;5;124;43m'\u001b[39;49m\u001b[38;5;124;43massignment\u001b[39;49m\u001b[38;5;124;43m'\u001b[39;49m\u001b[43m)\u001b[49m\n",
      "\u001b[0;31mKeyError\u001b[0m: 'assignment'"
     ]
    }
   ],
   "source": [
    "d6.pop('assignment')"
   ]
  },
  {
   "cell_type": "code",
   "execution_count": null,
   "id": "d1cf0905-d135-40bc-972c-0604ac8c60b2",
   "metadata": {},
   "outputs": [],
   "source": []
  },
  {
   "cell_type": "code",
   "execution_count": null,
   "id": "e23257d7-4772-4b35-9398-e8763af89e9b",
   "metadata": {},
   "outputs": [],
   "source": []
  },
  {
   "cell_type": "code",
   "execution_count": 77,
   "id": "ac5aba68-15bc-458e-af94-ebc29b86545f",
   "metadata": {},
   "outputs": [],
   "source": [
    "#Conditional statements"
   ]
  },
  {
   "cell_type": "code",
   "execution_count": 78,
   "id": "5674e072-af79-4a7a-8c5e-6ef569f9d587",
   "metadata": {},
   "outputs": [
    {
     "name": "stdout",
     "output_type": "stream",
     "text": [
      "you will be a part of A0 batch\n"
     ]
    }
   ],
   "source": [
    "marks = 85\n",
    "if marks >= 80:\n",
    "    print(\"you will be a part of A0 batch\")\n",
    "elif marks>= 60 and marks <80 :\n",
    "    print(\"you will be a part of A1 batch\")\n",
    "elif marks>= 40 and marks <60:\n",
    "    print(\"you will be a part of A2 batch\")\n",
    "else: \n",
    "    print(\"you will be a part of A3 batch\")\n",
    "        \n",
    "        "
   ]
  },
  {
   "cell_type": "code",
   "execution_count": 80,
   "id": "c93778f9-faae-4f5b-8390-8e95cac23426",
   "metadata": {},
   "outputs": [
    {
     "name": "stdin",
     "output_type": "stream",
     "text": [
      "enter your marks 85\n"
     ]
    }
   ],
   "source": [
    "marks = int(input(\"enter your marks\"))"
   ]
  },
  {
   "cell_type": "code",
   "execution_count": 82,
   "id": "133b8c0e-a239-4f44-915d-b390efdd00f9",
   "metadata": {},
   "outputs": [
    {
     "data": {
      "text/plain": [
       "85"
      ]
     },
     "execution_count": 82,
     "metadata": {},
     "output_type": "execute_result"
    }
   ],
   "source": [
    "marks"
   ]
  },
  {
   "cell_type": "code",
   "execution_count": 85,
   "id": "892739d3-2300-4cdd-a4ec-2c654d857a66",
   "metadata": {},
   "outputs": [
    {
     "name": "stdin",
     "output_type": "stream",
     "text": [
      "enter your marks 97\n"
     ]
    },
    {
     "name": "stdout",
     "output_type": "stream",
     "text": [
      "you will be a part of A0 batch\n"
     ]
    }
   ],
   "source": [
    "marks = int(input(\"enter your marks\"))\n",
    "if marks >= 80:\n",
    "    print(\"you will be a part of A0 batch\")\n",
    "elif marks>= 60 and marks <80 :\n",
    "    print(\"you will be a part of A1 batch\")\n",
    "elif marks>= 40 and marks <60:\n",
    "    print(\"you will be a part of A2 batch\")\n",
    "else: \n",
    "    print(\"you will be a part of A3 batch\")"
   ]
  },
  {
   "cell_type": "code",
   "execution_count": 95,
   "id": "0a9b382a-4e3c-4241-b822-eb8f98152eda",
   "metadata": {},
   "outputs": [
    {
     "name": "stdin",
     "output_type": "stream",
     "text": [
      "enter price 700\n"
     ]
    },
    {
     "name": "stdout",
     "output_type": "stream",
     "text": [
      "I will perchase\n"
     ]
    }
   ],
   "source": [
    "price = int(input(\"enter price\"))\n",
    "if price > 1000:\n",
    "    print(\"I will not perchase\")\n",
    "else:\n",
    "    print(\"I will perchase\")\n",
    "    \n",
    "\n",
    "        \n"
   ]
  },
  {
   "cell_type": "code",
   "execution_count": 92,
   "id": "95e51f8d-40b8-475d-9662-b033176418f7",
   "metadata": {},
   "outputs": [
    {
     "name": "stdin",
     "output_type": "stream",
     "text": [
      "enter price 1200\n"
     ]
    },
    {
     "name": "stdout",
     "output_type": "stream",
     "text": [
      "I will not purchase\n",
      "its ok\n"
     ]
    }
   ],
   "source": [
    "price =int(input(\"enter price\"))\n",
    "if price > 1000:\n",
    "    print(\"I will not purchase\")\n",
    "    if price >5000:\n",
    "        print(\"this is too much\")\n",
    "    elif price <2000:\n",
    "            print(\"its ok\")\n",
    "            "
   ]
  },
  {
   "cell_type": "code",
   "execution_count": 96,
   "id": "366a4523-bc9a-492a-9991-14a211473e6d",
   "metadata": {},
   "outputs": [],
   "source": [
    "L = [1,2,3,4,5,6,7,8,9]"
   ]
  },
  {
   "cell_type": "code",
   "execution_count": 98,
   "id": "f4e837d6-e626-4002-9333-c2239b858a52",
   "metadata": {},
   "outputs": [
    {
     "data": {
      "text/plain": [
       "2"
      ]
     },
     "execution_count": 98,
     "metadata": {},
     "output_type": "execute_result"
    }
   ],
   "source": [
    "L[0]+1"
   ]
  },
  {
   "cell_type": "code",
   "execution_count": 99,
   "id": "f627de1e-b705-410a-a56b-8d4fa91d3b34",
   "metadata": {},
   "outputs": [],
   "source": [
    "L1=[]"
   ]
  },
  {
   "cell_type": "code",
   "execution_count": 102,
   "id": "a3f56f52-855e-46c0-bd37-0064161c5c23",
   "metadata": {},
   "outputs": [
    {
     "name": "stderr",
     "output_type": "stream",
     "text": [
      "<>:1: SyntaxWarning: 'int' object is not subscriptable; perhaps you missed a comma?\n",
      "<>:1: SyntaxWarning: 'int' object is not subscriptable; perhaps you missed a comma?\n",
      "/tmp/ipykernel_70/4008908304.py:1: SyntaxWarning: 'int' object is not subscriptable; perhaps you missed a comma?\n",
      "  L1.append(1[0]+1)\n",
      "/tmp/ipykernel_70/4008908304.py:1: SyntaxWarning: 'int' object is not subscriptable; perhaps you missed a comma?\n",
      "  L1.append(1[0]+1)\n",
      "/tmp/ipykernel_70/4008908304.py:1: SyntaxWarning: 'int' object is not subscriptable; perhaps you missed a comma?\n",
      "  L1.append(1[0]+1)\n"
     ]
    },
    {
     "ename": "TypeError",
     "evalue": "'int' object is not subscriptable",
     "output_type": "error",
     "traceback": [
      "\u001b[0;31m---------------------------------------------------------------------------\u001b[0m",
      "\u001b[0;31mTypeError\u001b[0m                                 Traceback (most recent call last)",
      "Cell \u001b[0;32mIn[102], line 1\u001b[0m\n\u001b[0;32m----> 1\u001b[0m L1\u001b[38;5;241m.\u001b[39mappend(\u001b[38;5;241;43m1\u001b[39;49m\u001b[43m[\u001b[49m\u001b[38;5;241;43m0\u001b[39;49m\u001b[43m]\u001b[49m\u001b[38;5;241m+\u001b[39m\u001b[38;5;241m1\u001b[39m)\n",
      "\u001b[0;31mTypeError\u001b[0m: 'int' object is not subscriptable"
     ]
    }
   ],
   "source": [
    "L1.append(1[0]+1)"
   ]
  },
  {
   "cell_type": "code",
   "execution_count": 104,
   "id": "85581b42-f88f-45a1-9ce1-3ca74fc1dcc4",
   "metadata": {},
   "outputs": [
    {
     "data": {
      "text/plain": [
       "[]"
      ]
     },
     "execution_count": 104,
     "metadata": {},
     "output_type": "execute_result"
    }
   ],
   "source": [
    "L1"
   ]
  },
  {
   "cell_type": "code",
   "execution_count": 106,
   "id": "1550e5eb-1274-4198-930c-073058969cb2",
   "metadata": {},
   "outputs": [
    {
     "name": "stdout",
     "output_type": "stream",
     "text": [
      "1\n",
      "2\n",
      "3\n",
      "4\n",
      "5\n",
      "6\n",
      "7\n",
      "8\n",
      "9\n"
     ]
    }
   ],
   "source": [
    "for i in L:\n",
    "    print(i)"
   ]
  },
  {
   "cell_type": "code",
   "execution_count": 108,
   "id": "5ddfb186-3975-4932-a57e-7d142d838be1",
   "metadata": {},
   "outputs": [
    {
     "name": "stdout",
     "output_type": "stream",
     "text": [
      "2\n",
      "3\n",
      "4\n",
      "5\n",
      "6\n",
      "7\n",
      "8\n",
      "9\n",
      "10\n"
     ]
    }
   ],
   "source": [
    "for i in L:\n",
    "    print(i+1)"
   ]
  },
  {
   "cell_type": "code",
   "execution_count": 1,
   "id": "3b2e5a58-be10-4ce9-96ef-44dac46a5a9a",
   "metadata": {},
   "outputs": [
    {
     "ename": "SyntaxError",
     "evalue": "expected ':' (2067229676.py, line 3)",
     "output_type": "error",
     "traceback": [
      "\u001b[0;36m  Cell \u001b[0;32mIn[1], line 3\u001b[0;36m\u001b[0m\n\u001b[0;31m    while(i<5)\u001b[0m\n\u001b[0m              ^\u001b[0m\n\u001b[0;31mSyntaxError\u001b[0m\u001b[0;31m:\u001b[0m expected ':'\n"
     ]
    }
   ],
   "source": [
    "for i in L:\n",
    "    print(i+1)\n",
    "    while(i<5)"
   ]
  },
  {
   "cell_type": "code",
   "execution_count": null,
   "id": "1ad19b50-e713-4cf7-abd1-71b713f2fdaf",
   "metadata": {},
   "outputs": [],
   "source": [
    "l1 = []\n",
    "l2 =[]\n",
    "for i in 1:\n",
    "    if type(i) == int or type(i) =="
   ]
  }
 ],
 "metadata": {
  "kernelspec": {
   "display_name": "Python 3 (ipykernel)",
   "language": "python",
   "name": "python3"
  },
  "language_info": {
   "codemirror_mode": {
    "name": "ipython",
    "version": 3
   },
   "file_extension": ".py",
   "mimetype": "text/x-python",
   "name": "python",
   "nbconvert_exporter": "python",
   "pygments_lexer": "ipython3",
   "version": "3.10.8"
  }
 },
 "nbformat": 4,
 "nbformat_minor": 5
}
