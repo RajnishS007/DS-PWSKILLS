{
 "cells": [
  {
   "cell_type": "code",
   "execution_count": 1,
   "id": "32400a37-4fe0-492c-892a-3482c7a56af7",
   "metadata": {},
   "outputs": [
    {
     "data": {
      "text/plain": [
       "6"
      ]
     },
     "execution_count": 1,
     "metadata": {},
     "output_type": "execute_result"
    }
   ],
   "source": [
    "3+3"
   ]
  },
  {
   "cell_type": "code",
   "execution_count": 18,
   "id": "fadb2bb9-be15-4d42-997b-b88797bd846c",
   "metadata": {},
   "outputs": [
    {
     "name": "stdout",
     "output_type": "stream",
     "text": [
      "Hello world\n"
     ]
    }
   ],
   "source": [
    "print(\"Hello world\")"
   ]
  },
  {
   "cell_type": "code",
   "execution_count": 2,
   "id": "1ae522c7-e5e8-4bf2-9c41-03530666b334",
   "metadata": {},
   "outputs": [],
   "source": [
    "var = 2050"
   ]
  },
  {
   "cell_type": "code",
   "execution_count": 3,
   "id": "ad2fca3a-6ca4-491d-82af-1e4329ab7da9",
   "metadata": {},
   "outputs": [
    {
     "data": {
      "text/plain": [
       "2050"
      ]
     },
     "execution_count": 3,
     "metadata": {},
     "output_type": "execute_result"
    }
   ],
   "source": [
    "var"
   ]
  },
  {
   "cell_type": "code",
   "execution_count": 4,
   "id": "98019327-254b-477b-990a-5361bd102873",
   "metadata": {},
   "outputs": [],
   "source": [
    "a=550"
   ]
  },
  {
   "cell_type": "code",
   "execution_count": 5,
   "id": "f0ff0a2a-9728-4670-94ba-a323bb96810d",
   "metadata": {},
   "outputs": [
    {
     "data": {
      "text/plain": [
       "2600"
      ]
     },
     "execution_count": 5,
     "metadata": {},
     "output_type": "execute_result"
    }
   ],
   "source": [
    "a+var"
   ]
  },
  {
   "cell_type": "code",
   "execution_count": 7,
   "id": "f48b08a1-c90e-4c5e-95db-2112969333ad",
   "metadata": {},
   "outputs": [],
   "source": [
    "m=True"
   ]
  },
  {
   "cell_type": "code",
   "execution_count": 8,
   "id": "9c0f89ae-00d3-43b6-9c17-6512b533a3dc",
   "metadata": {},
   "outputs": [
    {
     "data": {
      "text/plain": [
       "bool"
      ]
     },
     "execution_count": 8,
     "metadata": {},
     "output_type": "execute_result"
    }
   ],
   "source": [
    "type(m)"
   ]
  },
  {
   "cell_type": "code",
   "execution_count": 10,
   "id": "445b9805-b2e3-45c9-a911-adc4299ac3b2",
   "metadata": {},
   "outputs": [
    {
     "data": {
      "text/plain": [
       "551"
      ]
     },
     "execution_count": 10,
     "metadata": {},
     "output_type": "execute_result"
    }
   ],
   "source": [
    "m+a"
   ]
  },
  {
   "cell_type": "raw",
   "id": "909dc106-4be8-4552-8b30-5264e56049f8",
   "metadata": {},
   "source": [
    "True*True"
   ]
  },
  {
   "cell_type": "code",
   "execution_count": 11,
   "id": "270b5795-ef20-493b-81ef-070d012f5955",
   "metadata": {},
   "outputs": [
    {
     "data": {
      "text/plain": [
       "1"
      ]
     },
     "execution_count": 11,
     "metadata": {},
     "output_type": "execute_result"
    }
   ],
   "source": [
    "True*True"
   ]
  },
  {
   "cell_type": "code",
   "execution_count": 12,
   "id": "58b926a4-498c-485b-a90d-de466cdac014",
   "metadata": {},
   "outputs": [],
   "source": [
    "v = 5+8j"
   ]
  },
  {
   "cell_type": "code",
   "execution_count": 13,
   "id": "73300506-403b-49f1-aff8-0c0f704c07d3",
   "metadata": {},
   "outputs": [
    {
     "data": {
      "text/plain": [
       "complex"
      ]
     },
     "execution_count": 13,
     "metadata": {},
     "output_type": "execute_result"
    }
   ],
   "source": [
    "type(v)"
   ]
  },
  {
   "cell_type": "code",
   "execution_count": 14,
   "id": "3e7c1f94-1198-4bc3-9438-d0e30bf761a1",
   "metadata": {},
   "outputs": [
    {
     "data": {
      "text/plain": [
       "5.0"
      ]
     },
     "execution_count": 14,
     "metadata": {},
     "output_type": "execute_result"
    }
   ],
   "source": [
    "v.real"
   ]
  },
  {
   "cell_type": "code",
   "execution_count": 15,
   "id": "083c2e84-02c9-4e73-a903-378664ae3d9c",
   "metadata": {},
   "outputs": [
    {
     "data": {
      "text/plain": [
       "<function complex.conjugate()>"
      ]
     },
     "execution_count": 15,
     "metadata": {},
     "output_type": "execute_result"
    }
   ],
   "source": [
    "v.conjugate"
   ]
  },
  {
   "cell_type": "code",
   "execution_count": 16,
   "id": "d411033b-c553-491e-b8b4-7804716ae474",
   "metadata": {},
   "outputs": [
    {
     "data": {
      "text/plain": [
       "8.0"
      ]
     },
     "execution_count": 16,
     "metadata": {},
     "output_type": "execute_result"
    }
   ],
   "source": [
    "v.imag"
   ]
  },
  {
   "cell_type": "code",
   "execution_count": 17,
   "id": "90b5fe50-7843-4686-be33-535089c10add",
   "metadata": {},
   "outputs": [
    {
     "name": "stdout",
     "output_type": "stream",
     "text": [
      "MY name is rk\n"
     ]
    }
   ],
   "source": [
    "print(\"MY name is rk\")"
   ]
  },
  {
   "cell_type": "code",
   "execution_count": 19,
   "id": "210d7767-bf02-4720-8782-45f35c0cd5ff",
   "metadata": {},
   "outputs": [
    {
     "name": "stdout",
     "output_type": "stream",
     "text": [
      "(5+8j)\n"
     ]
    }
   ],
   "source": [
    "print(v)"
   ]
  },
  {
   "cell_type": "code",
   "execution_count": 20,
   "id": "3de41477-c708-4f72-8798-1acbcc8c206c",
   "metadata": {},
   "outputs": [],
   "source": [
    "s=\"PWSKILLS\""
   ]
  },
  {
   "cell_type": "code",
   "execution_count": 21,
   "id": "35380b16-6e27-452c-b406-a0a3815b5c6a",
   "metadata": {},
   "outputs": [
    {
     "data": {
      "text/plain": [
       "'PSIL'"
      ]
     },
     "execution_count": 21,
     "metadata": {},
     "output_type": "execute_result"
    }
   ],
   "source": [
    "s[0:8:2]"
   ]
  },
  {
   "cell_type": "code",
   "execution_count": 22,
   "id": "49afebd9-224c-4236-88cb-070c2b2c6e3b",
   "metadata": {},
   "outputs": [
    {
     "data": {
      "text/plain": [
       "'PSIL'"
      ]
     },
     "execution_count": 22,
     "metadata": {},
     "output_type": "execute_result"
    }
   ],
   "source": [
    "s[::2]"
   ]
  },
  {
   "cell_type": "code",
   "execution_count": 24,
   "id": "63c7cf34-a436-49a6-baa5-9537ab01bf47",
   "metadata": {},
   "outputs": [
    {
     "data": {
      "text/plain": [
       "'SIL'"
      ]
     },
     "execution_count": 24,
     "metadata": {},
     "output_type": "execute_result"
    }
   ],
   "source": [
    "s[2::2]"
   ]
  },
  {
   "cell_type": "code",
   "execution_count": 25,
   "id": "4effb354-415d-4f01-b1b5-2ca8a827f707",
   "metadata": {},
   "outputs": [
    {
     "data": {
      "text/plain": [
       "'SKILLS'"
      ]
     },
     "execution_count": 25,
     "metadata": {},
     "output_type": "execute_result"
    }
   ],
   "source": [
    "s[2::1]"
   ]
  },
  {
   "cell_type": "code",
   "execution_count": 26,
   "id": "aa82e541-72ed-4018-a434-3d2a488dcce2",
   "metadata": {},
   "outputs": [
    {
     "data": {
      "text/plain": [
       "'SLLIKSWP'"
      ]
     },
     "execution_count": 26,
     "metadata": {},
     "output_type": "execute_result"
    }
   ],
   "source": [
    "s[::-1]"
   ]
  },
  {
   "cell_type": "code",
   "execution_count": 27,
   "id": "7435b241-6e38-4d64-9f0c-1f0cfb7235f8",
   "metadata": {},
   "outputs": [
    {
     "data": {
      "text/plain": [
       "''"
      ]
     },
     "execution_count": 27,
     "metadata": {},
     "output_type": "execute_result"
    }
   ],
   "source": [
    "s[2:7:-1]"
   ]
  },
  {
   "cell_type": "code",
   "execution_count": 28,
   "id": "18dc8af9-a2a9-498f-bb82-b8c78df49e25",
   "metadata": {},
   "outputs": [],
   "source": [
    "s1=\"this is pw first class\""
   ]
  },
  {
   "cell_type": "code",
   "execution_count": 29,
   "id": "c4bc2a28-e408-4afe-abfa-5fc0024cda8e",
   "metadata": {},
   "outputs": [
    {
     "data": {
      "text/plain": [
       "2"
      ]
     },
     "execution_count": 29,
     "metadata": {},
     "output_type": "execute_result"
    }
   ],
   "source": [
    "s1.find('is')"
   ]
  },
  {
   "cell_type": "code",
   "execution_count": 30,
   "id": "de428416-411a-4012-8aa7-32d682ecc017",
   "metadata": {},
   "outputs": [
    {
     "data": {
      "text/plain": [
       "2"
      ]
     },
     "execution_count": 30,
     "metadata": {},
     "output_type": "execute_result"
    }
   ],
   "source": [
    "s1.find('i')"
   ]
  },
  {
   "cell_type": "code",
   "execution_count": 31,
   "id": "71a0a148-4627-4daa-94c0-acc99277b1a6",
   "metadata": {},
   "outputs": [
    {
     "data": {
      "text/plain": [
       "9"
      ]
     },
     "execution_count": 31,
     "metadata": {},
     "output_type": "execute_result"
    }
   ],
   "source": [
    "s1.find(\"w\")"
   ]
  },
  {
   "cell_type": "code",
   "execution_count": 32,
   "id": "e972feab-e815-4595-b59b-22cfbec521e4",
   "metadata": {},
   "outputs": [
    {
     "data": {
      "text/plain": [
       "22"
      ]
     },
     "execution_count": 32,
     "metadata": {},
     "output_type": "execute_result"
    }
   ],
   "source": [
    "len(s1)"
   ]
  },
  {
   "cell_type": "code",
   "execution_count": 33,
   "id": "414eef3a-bcf6-4917-bde7-5eca4bc2f464",
   "metadata": {},
   "outputs": [
    {
     "data": {
      "text/plain": [
       "3"
      ]
     },
     "execution_count": 33,
     "metadata": {},
     "output_type": "execute_result"
    }
   ],
   "source": [
    "s1.count('i')"
   ]
  },
  {
   "cell_type": "code",
   "execution_count": 34,
   "id": "84022c6c-691c-4b56-a3c8-261e32654994",
   "metadata": {},
   "outputs": [
    {
     "data": {
      "text/plain": [
       "5"
      ]
     },
     "execution_count": 34,
     "metadata": {},
     "output_type": "execute_result"
    }
   ],
   "source": [
    "s1.count('s')"
   ]
  },
  {
   "cell_type": "code",
   "execution_count": 36,
   "id": "785c80aa-6617-4a63-aa8d-8b278a9e5051",
   "metadata": {},
   "outputs": [
    {
     "data": {
      "text/plain": [
       "'this is pw first class'"
      ]
     },
     "execution_count": 36,
     "metadata": {},
     "output_type": "execute_result"
    }
   ],
   "source": [
    "s1.lower()"
   ]
  },
  {
   "cell_type": "code",
   "execution_count": 42,
   "id": "f5f25c87-affb-46d2-9b0d-1757329de6f1",
   "metadata": {},
   "outputs": [
    {
     "data": {
      "text/plain": [
       "'THIS IS PW FIRST CLASS'"
      ]
     },
     "execution_count": 42,
     "metadata": {},
     "output_type": "execute_result"
    }
   ],
   "source": [
    "s1.upper()"
   ]
  },
  {
   "cell_type": "code",
   "execution_count": 45,
   "id": "a974a447-a7d1-4b67-a737-0483543ffe1d",
   "metadata": {},
   "outputs": [
    {
     "data": {
      "text/plain": [
       "'This Is Pw First Class'"
      ]
     },
     "execution_count": 45,
     "metadata": {},
     "output_type": "execute_result"
    }
   ],
   "source": [
    "s1.title()"
   ]
  },
  {
   "cell_type": "code",
   "execution_count": 47,
   "id": "1306c5e8-f6e3-4cb7-acc0-2391ddddf10b",
   "metadata": {},
   "outputs": [
    {
     "data": {
      "text/plain": [
       "'concatenate this is pw first class'"
      ]
     },
     "execution_count": 47,
     "metadata": {},
     "output_type": "execute_result"
    }
   ],
   "source": [
    "\"concatenate \"+s1"
   ]
  },
  {
   "cell_type": "code",
   "execution_count": 51,
   "id": "ba24bbf2-fef9-4e42-841c-a92f5e5fc4d8",
   "metadata": {},
   "outputs": [
    {
     "data": {
      "text/plain": [
       "'concatenate 23'"
      ]
     },
     "execution_count": 51,
     "metadata": {},
     "output_type": "execute_result"
    }
   ],
   "source": [
    "\"concatenate\" + \" 23\""
   ]
  },
  {
   "cell_type": "code",
   "execution_count": 59,
   "id": "4d7e840b-442c-4e85-a546-cc2afb7765d0",
   "metadata": {},
   "outputs": [
    {
     "data": {
      "text/plain": [
       "'this is pw first class23'"
      ]
     },
     "execution_count": 59,
     "metadata": {},
     "output_type": "execute_result"
    }
   ],
   "source": [
    "s1 + str(23)"
   ]
  },
  {
   "cell_type": "code",
   "execution_count": 61,
   "id": "e56b9103-5cd6-4e05-9186-96600ce0c83e",
   "metadata": {},
   "outputs": [
    {
     "data": {
      "text/plain": [
       "'sudhsudhsudhsudh'"
      ]
     },
     "execution_count": 61,
     "metadata": {},
     "output_type": "execute_result"
    }
   ],
   "source": [
    "'sudh' *4"
   ]
  },
  {
   "cell_type": "code",
   "execution_count": 62,
   "id": "ad4117f1-2937-4638-9207-80fa05a8ff1f",
   "metadata": {},
   "outputs": [
    {
     "ename": "SyntaxError",
     "evalue": "unterminated string literal (detected at line 1) (2358257817.py, line 1)",
     "output_type": "error",
     "traceback": [
      "\u001b[0;36m  Cell \u001b[0;32mIn[62], line 1\u001b[0;36m\u001b[0m\n\u001b[0;31m    'don't copy and paste in my class'\u001b[0m\n\u001b[0m                                     ^\u001b[0m\n\u001b[0;31mSyntaxError\u001b[0m\u001b[0;31m:\u001b[0m unterminated string literal (detected at line 1)\n"
     ]
    }
   ],
   "source": [
    "'don't copy and paste in my class'"
   ]
  },
  {
   "cell_type": "code",
   "execution_count": 64,
   "id": "59b53bdb-857d-4dbb-83e3-8c92020522e2",
   "metadata": {},
   "outputs": [
    {
     "data": {
      "text/plain": [
       "\"don't copy and paste in my class\""
      ]
     },
     "execution_count": 64,
     "metadata": {},
     "output_type": "execute_result"
    }
   ],
   "source": [
    "\"don't copy and paste in my class\""
   ]
  },
  {
   "cell_type": "code",
   "execution_count": 66,
   "id": "3ab1114d-0e09-4fd5-add7-13f9059aa317",
   "metadata": {},
   "outputs": [
    {
     "data": {
      "text/plain": [
       "'don\"t copy and paste in my class'"
      ]
     },
     "execution_count": 66,
     "metadata": {},
     "output_type": "execute_result"
    }
   ],
   "source": [
    "'don\"t copy and paste in my class'"
   ]
  },
  {
   "cell_type": "code",
   "execution_count": 69,
   "id": "f62ed721-9d38-4859-ae81-57eda4f2f149",
   "metadata": {},
   "outputs": [],
   "source": [
    "##This is my first class for programming"
   ]
  },
  {
   "cell_type": "code",
   "execution_count": 71,
   "id": "2b476dbb-ee32-4aec-86b9-245748d0d41e",
   "metadata": {},
   "outputs": [],
   "source": [
    "##comment is written by double hash "
   ]
  },
  {
   "cell_type": "code",
   "execution_count": 73,
   "id": "d01bbf0c-d4f8-499e-af9f-ddefd9f59580",
   "metadata": {},
   "outputs": [
    {
     "data": {
      "text/plain": [
       "2"
      ]
     },
     "execution_count": 73,
     "metadata": {},
     "output_type": "execute_result"
    }
   ],
   "source": [
    "s1.find(\"is\") ##this is a code to find a character "
   ]
  },
  {
   "cell_type": "code",
   "execution_count": 75,
   "id": "f7dca59a-5792-4ec2-99dd-31c145764948",
   "metadata": {},
   "outputs": [
    {
     "data": {
      "text/plain": [
       "'A long story in comment form can be written  in the way \\nthat any one can use it by writting this in simple form\\nand pwskill can teach any one in simople way '"
      ]
     },
     "execution_count": 75,
     "metadata": {},
     "output_type": "execute_result"
    }
   ],
   "source": [
    "\"\"\"A long story in comment form can be written  in the way \n",
    "that any one can use it by writting this in simple form\n",
    "and pwskill can teach any one in simople way \"\"\"\n"
   ]
  },
  {
   "cell_type": "code",
   "execution_count": 1,
   "id": "7423adc9-a0b5-4328-a87e-b36f4c2f44d9",
   "metadata": {},
   "outputs": [
    {
     "data": {
      "text/plain": [
       "'A long story in comment form can be written  in the way \\nthat any one can use it by writting this in simple form\\nand pwskill can teach any one in simople way '"
      ]
     },
     "execution_count": 1,
     "metadata": {},
     "output_type": "execute_result"
    }
   ],
   "source": [
    "'''A long story in comment form can be written  in the way \n",
    "that any one can use it by writting this in simple form\n",
    "and pwskill can teach any one in simople way '''\n"
   ]
  },
  {
   "cell_type": "code",
   "execution_count": 2,
   "id": "964e3d97-e557-412e-a29c-bdc48d3cbd79",
   "metadata": {},
   "outputs": [],
   "source": [
    "s=\"Rajnish\""
   ]
  },
  {
   "cell_type": "code",
   "execution_count": 4,
   "id": "d2b39ca2-d28f-4280-9169-39cf8634e038",
   "metadata": {},
   "outputs": [
    {
     "data": {
      "text/plain": [
       "'Rajnish'"
      ]
     },
     "execution_count": 4,
     "metadata": {},
     "output_type": "execute_result"
    }
   ],
   "source": [
    "s"
   ]
  },
  {
   "cell_type": "code",
   "execution_count": 11,
   "id": "522fb157-cc91-4fe1-8763-0c5e5f3a921b",
   "metadata": {},
   "outputs": [
    {
     "name": "stdout",
     "output_type": "stream",
     "text": [
      "Rajnish\n"
     ]
    }
   ],
   "source": [
    "print(s)"
   ]
  },
  {
   "cell_type": "code",
   "execution_count": 12,
   "id": "32b1afdb-d314-4d5f-b27c-279a5183d179",
   "metadata": {},
   "outputs": [
    {
     "data": {
      "text/plain": [
       "'jnish'"
      ]
     },
     "execution_count": 12,
     "metadata": {},
     "output_type": "execute_result"
    }
   ],
   "source": [
    "s[2::1]"
   ]
  },
  {
   "cell_type": "code",
   "execution_count": null,
   "id": "7f7c8bfd-e3ad-46e1-a9d3-9fa20c65b4aa",
   "metadata": {},
   "outputs": [],
   "source": [
    "# jsjvhhjbhfk\n",
    "# dfjhbkfjobjs\n",
    "# hvbsdh[\n",
    "# sjkkuebhubdh\n",
    "# ndhyywiin\n",
    "# hsgioabiaoj\n",
    "# agguaihav\n",
    "# haiufa\n",
    "\n",
    "control + rorward slash(/) "
   ]
  }
 ],
 "metadata": {
  "kernelspec": {
   "display_name": "Python 3 (ipykernel)",
   "language": "python",
   "name": "python3"
  },
  "language_info": {
   "codemirror_mode": {
    "name": "ipython",
    "version": 3
   },
   "file_extension": ".py",
   "mimetype": "text/x-python",
   "name": "python",
   "nbconvert_exporter": "python",
   "pygments_lexer": "ipython3",
   "version": "3.10.8"
  }
 },
 "nbformat": 4,
 "nbformat_minor": 5
}
